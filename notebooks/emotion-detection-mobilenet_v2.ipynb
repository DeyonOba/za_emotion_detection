{
 "cells": [
  {
   "cell_type": "code",
   "execution_count": 1,
   "id": "47ebdd8d",
   "metadata": {
    "_cell_guid": "b1076dfc-b9ad-4769-8c92-a6c4dae69d19",
    "_uuid": "8f2839f25d086af736a60e9eeb907d3b93b6e0e5",
    "execution": {
     "iopub.execute_input": "2022-02-26T12:00:53.070113Z",
     "iopub.status.busy": "2022-02-26T12:00:53.068621Z",
     "iopub.status.idle": "2022-02-26T12:00:57.829770Z",
     "shell.execute_reply": "2022-02-26T12:00:57.829171Z",
     "shell.execute_reply.started": "2022-02-25T20:29:20.96845Z"
    },
    "papermill": {
     "duration": 4.780138,
     "end_time": "2022-02-26T12:00:57.829919",
     "exception": false,
     "start_time": "2022-02-26T12:00:53.049781",
     "status": "completed"
    },
    "tags": []
   },
   "outputs": [],
   "source": [
    "import pandas as pd\n",
    "import matplotlib.pyplot as plt\n",
    "import tensorflow as tf\n",
    "import numpy as np\n",
    "from sklearn.model_selection import train_test_split\n",
    "import cv2"
   ]
  },
  {
   "cell_type": "code",
   "execution_count": 2,
   "id": "2309ad63",
   "metadata": {
    "execution": {
     "iopub.execute_input": "2022-02-26T12:00:57.868495Z",
     "iopub.status.busy": "2022-02-26T12:00:57.867738Z",
     "iopub.status.idle": "2022-02-26T12:01:44.749996Z",
     "shell.execute_reply": "2022-02-26T12:01:44.749534Z",
     "shell.execute_reply.started": "2022-02-25T20:29:25.643247Z"
    },
    "papermill": {
     "duration": 46.904629,
     "end_time": "2022-02-26T12:01:44.750158",
     "exception": false,
     "start_time": "2022-02-26T12:00:57.845529",
     "status": "completed"
    },
    "tags": []
   },
   "outputs": [
    {
     "name": "stdout",
     "output_type": "stream",
     "text": [
      "Cloning into 'FERPlus'...\r\n",
      "remote: Enumerating objects: 128, done.\u001b[K\r\n",
      "remote: Total 128 (delta 0), reused 0 (delta 0), pack-reused 128\u001b[K\r\n",
      "Receiving objects: 100% (128/128), 650.37 KiB | 2.65 MiB/s, done.\r\n",
      "Resolving deltas: 100% (70/70), done.\r\n",
      "fer2013/fer2013.csv\r\n",
      "fer2013/README\r\n",
      "fer2013/fer2013.bib\r\n",
      "fer2013/\r\n",
      "Start generating ferplus images.\r\n",
      "Done...\r\n"
     ]
    }
   ],
   "source": [
    "def create_dataset():\n",
    "    # clone repo\n",
    "    !git clone https://github.com/microsoft/FERPlus.git\n",
    "    !mkdir ./FER2013plus\n",
    "    # Extract the downloaded data into another directory\n",
    "    !tar xvzf \"../input/challenges-in-representation-learning-facial-expression-recognition-challenge/fer2013.tar.gz\" -C \"./FER2013plus/\"\n",
    "    # Run the data generation script on the extracted data\n",
    "    !python FERPlus/src/generate_training_data.py -d ./FERPlus/data -fer \"FER2013plus/fer2013/fer2013.csv\" -ferplus \"./FERPlus/fer2013new.csv\"\n",
    "create_dataset()"
   ]
  },
  {
   "cell_type": "code",
   "execution_count": 3,
   "id": "363c7d1f",
   "metadata": {
    "execution": {
     "iopub.execute_input": "2022-02-26T12:01:44.799491Z",
     "iopub.status.busy": "2022-02-26T12:01:44.798629Z",
     "iopub.status.idle": "2022-02-26T12:01:44.856249Z",
     "shell.execute_reply": "2022-02-26T12:01:44.856940Z",
     "shell.execute_reply.started": "2022-02-25T20:30:12.898474Z"
    },
    "papermill": {
     "duration": 0.089006,
     "end_time": "2022-02-26T12:01:44.857168",
     "exception": false,
     "start_time": "2022-02-26T12:01:44.768162",
     "status": "completed"
    },
    "tags": []
   },
   "outputs": [
    {
     "name": "stdout",
     "output_type": "stream",
     "text": [
      "(35887, 12)\n"
     ]
    }
   ],
   "source": [
    "col_names = [\"usage\",\"img_name\", \"neutral\",\"happiness\",\"surprise\",\"sadness\",\"anger\",\"disgust\",\"fear\",\"contempt\",\"Unknown\", \"NF\"]\n",
    "di = {'neutral': 0, 'happiness': 1,'surprise': 2,'sadness': 3,'anger': 4,'disgust': 5,'fear': 6,'contempt': 7,'Unknown': 8,'NF': 9}\n",
    "df = pd.read_csv('./FERPlus/fer2013new.csv',names=col_names,header=None,skiprows = 1)\n",
    "print(df.shape)"
   ]
  },
  {
   "cell_type": "code",
   "execution_count": 4,
   "id": "a74a3bed",
   "metadata": {
    "execution": {
     "iopub.execute_input": "2022-02-26T12:01:44.898678Z",
     "iopub.status.busy": "2022-02-26T12:01:44.897761Z",
     "iopub.status.idle": "2022-02-26T12:01:45.035217Z",
     "shell.execute_reply": "2022-02-26T12:01:45.035651Z",
     "shell.execute_reply.started": "2022-02-25T20:30:12.968904Z"
    },
    "papermill": {
     "duration": 0.161328,
     "end_time": "2022-02-26T12:01:45.035786",
     "exception": false,
     "start_time": "2022-02-26T12:01:44.874458",
     "status": "completed"
    },
    "tags": []
   },
   "outputs": [
    {
     "name": "stderr",
     "output_type": "stream",
     "text": [
      "/opt/conda/lib/python3.7/site-packages/ipykernel_launcher.py:5: SettingWithCopyWarning: \n",
      "A value is trying to be set on a copy of a slice from a DataFrame.\n",
      "Try using .loc[row_indexer,col_indexer] = value instead\n",
      "\n",
      "See the caveats in the documentation: https://pandas.pydata.org/pandas-docs/stable/user_guide/indexing.html#returning-a-view-versus-a-copy\n",
      "  \"\"\"\n",
      "/opt/conda/lib/python3.7/site-packages/ipykernel_launcher.py:6: SettingWithCopyWarning: \n",
      "A value is trying to be set on a copy of a slice from a DataFrame.\n",
      "Try using .loc[row_indexer,col_indexer] = value instead\n",
      "\n",
      "See the caveats in the documentation: https://pandas.pydata.org/pandas-docs/stable/user_guide/indexing.html#returning-a-view-versus-a-copy\n",
      "  \n"
     ]
    }
   ],
   "source": [
    "def process_df(folder_df):\n",
    "  use_cols = [x for x in folder_df.columns][2:]\n",
    "  folder_df['emotion'] = folder_df[use_cols].idxmax(axis=1)\n",
    "  folder_df = folder_df[['img_name','emotion']]\n",
    "  folder_df['emotion'] = folder_df['emotion'].map(di)\n",
    "  folder_df['emotion'] = folder_df['emotion'].apply(str)\n",
    "  return folder_df\n",
    "\n",
    "new_col_names = [\"img_name\",\"size\", \"neutral\",\"happiness\",\"surprise\",\"sadness\",\"anger\",\"disgust\",\"fear\",\"contempt\",\"Unknown\", \"NF\"]\n",
    "train_df =  pd.read_csv('./FERPlus/data/FER2013Train/label.csv',names=new_col_names,header=None)\n",
    "test_df =  pd.read_csv('./FERPlus/data/FER2013Test/label.csv',names=new_col_names,header=None)\n",
    "valid_df =  pd.read_csv('./FERPlus/data/FER2013Valid/label.csv',names=new_col_names,header=None)\n",
    "\n",
    "train_df = process_df(train_df)\n",
    "test_df = process_df(test_df)\n",
    "valid_df = process_df(valid_df)"
   ]
  },
  {
   "cell_type": "code",
   "execution_count": 5,
   "id": "76296d27",
   "metadata": {
    "execution": {
     "iopub.execute_input": "2022-02-26T12:01:45.073661Z",
     "iopub.status.busy": "2022-02-26T12:01:45.072977Z",
     "iopub.status.idle": "2022-02-26T12:01:45.283370Z",
     "shell.execute_reply": "2022-02-26T12:01:45.283908Z",
     "shell.execute_reply.started": "2022-02-25T20:30:13.125932Z"
    },
    "papermill": {
     "duration": 0.231853,
     "end_time": "2022-02-26T12:01:45.284062",
     "exception": false,
     "start_time": "2022-02-26T12:01:45.052209",
     "status": "completed"
    },
    "tags": []
   },
   "outputs": [
    {
     "name": "stdout",
     "output_type": "stream",
     "text": [
      "(48, 48, 3)\n"
     ]
    },
    {
     "data": {
      "image/png": "[encoded data removed]",
      "text/plain": [
       "<Figure size 432x288 with 1 Axes>"
      ]
     },
     "metadata": {
      "needs_background": "light"
     },
     "output_type": "display_data"
    }
   ],
   "source": [
    "# Preview image\n",
    "img = cv2.imread('./FERPlus/data/FER2013Train/fer0000000.png')\n",
    "plt.imshow(img)\n",
    "print(img.shape)"
   ]
  },
  {
   "cell_type": "code",
   "execution_count": 6,
   "id": "40e07db0",
   "metadata": {
    "execution": {
     "iopub.execute_input": "2022-02-26T12:01:45.327581Z",
     "iopub.status.busy": "2022-02-26T12:01:45.326889Z",
     "iopub.status.idle": "2022-02-26T12:01:46.485938Z",
     "shell.execute_reply": "2022-02-26T12:01:46.485489Z",
     "shell.execute_reply.started": "2022-02-25T20:30:13.332404Z"
    },
    "papermill": {
     "duration": 1.1847,
     "end_time": "2022-02-26T12:01:46.486091",
     "exception": false,
     "start_time": "2022-02-26T12:01:45.301391",
     "status": "completed"
    },
    "tags": []
   },
   "outputs": [
    {
     "name": "stdout",
     "output_type": "stream",
     "text": [
      "Found 28558 validated image filenames belonging to 10 classes.\n",
      "Found 3579 validated image filenames belonging to 10 classes.\n",
      "Found 3573 validated image filenames belonging to 9 classes.\n"
     ]
    }
   ],
   "source": [
    "from tensorflow.keras.preprocessing.image import ImageDataGenerator\n",
    "\n",
    "datagen = ImageDataGenerator(rescale=1/255,\n",
    "                              rotation_range=5,\n",
    "                              shear_range=0.1,\n",
    "                              zoom_range=0.1,\n",
    "                              width_shift_range=0.1,\n",
    "                              height_shift_range=0.1,\n",
    "                              horizontal_flip=True,\n",
    "                              fill_mode='nearest'\n",
    "                              )\n",
    "\n",
    "\n",
    "train_generator=datagen.flow_from_dataframe(\n",
    "    dataframe=train_df,\n",
    "    directory=\"./FERPlus/data/FER2013Train\",\n",
    "    x_col=\"img_name\",\n",
    "    y_col=\"emotion\",\n",
    "    batch_size=32,\n",
    "    seed=42,\n",
    "    shuffle=True,\n",
    "    class_mode=\"categorical\",\n",
    "    target_size=(48,48))\n",
    "\n",
    "valid_datagen = ImageDataGenerator(rescale=1/255)\n",
    "valid_generator=valid_datagen.flow_from_dataframe(\n",
    "    dataframe=valid_df,\n",
    "    directory=\"./FERPlus/data/FER2013Valid\",\n",
    "    x_col=\"img_name\",\n",
    "    y_col=\"emotion\",\n",
    "    batch_size=32,\n",
    "    seed=42,\n",
    "    shuffle=True,\n",
    "    class_mode=\"categorical\",\n",
    "    target_size=(48,48))\n",
    "\n",
    "test_datagen = ImageDataGenerator(rescale=1/255)\n",
    "test_generator=test_datagen.flow_from_dataframe(\n",
    "    dataframe=test_df,\n",
    "    directory=\"./FERPlus/data/FER2013Test\",\n",
    "    x_col=\"img_name\",\n",
    "    y_col=\"emotion\",\n",
    "    batch_size=32,\n",
    "    seed=42,\n",
    "    shuffle=True,\n",
    "    class_mode=\"categorical\",\n",
    "    target_size=(48,48))\n"
   ]
  },
  {
   "cell_type": "code",
   "execution_count": 7,
   "id": "a2f154b1",
   "metadata": {
    "execution": {
     "iopub.execute_input": "2022-02-26T12:01:46.529784Z",
     "iopub.status.busy": "2022-02-26T12:01:46.528869Z",
     "iopub.status.idle": "2022-02-26T12:01:46.929867Z",
     "shell.execute_reply": "2022-02-26T12:01:46.930464Z",
     "shell.execute_reply.started": "2022-02-25T20:30:14.500212Z"
    },
    "papermill": {
     "duration": 0.427058,
     "end_time": "2022-02-26T12:01:46.930660",
     "exception": false,
     "start_time": "2022-02-26T12:01:46.503602",
     "status": "completed"
    },
    "tags": []
   },
   "outputs": [
    {
     "name": "stderr",
     "output_type": "stream",
     "text": [
      "/opt/conda/lib/python3.7/site-packages/ipykernel_launcher.py:4: SettingWithCopyWarning: \n",
      "A value is trying to be set on a copy of a slice from a DataFrame.\n",
      "Try using .loc[row_indexer,col_indexer] = value instead\n",
      "\n",
      "See the caveats in the documentation: https://pandas.pydata.org/pandas-docs/stable/user_guide/indexing.html#returning-a-view-versus-a-copy\n",
      "  after removing the cwd from sys.path.\n"
     ]
    },
    {
     "name": "stdout",
     "output_type": "stream",
     "text": [
      "Found 3574 validated image filenames belonging to 10 classes.\n"
     ]
    },
    {
     "name": "stderr",
     "output_type": "stream",
     "text": [
      "/opt/conda/lib/python3.7/site-packages/keras_preprocessing/image/dataframe_iterator.py:282: UserWarning: Found 32140 invalid image filename(s) in x_col=\"img_name\". These filename(s) will be ignored.\n",
      "  .format(n_invalid, x_col)\n"
     ]
    }
   ],
   "source": [
    "df_copy = df.copy()\n",
    "useful_cols = [x for x in df_copy.columns][2:]\n",
    "dfc = df_copy[useful_cols]\n",
    "dfc['emotion'] = dfc.idxmax(axis=1)\n",
    "df_final = pd.concat([df_copy[['usage','img_name']],  dfc[['emotion']]], axis=1, ignore_index=False)\n",
    "df_final['img_name'] = df_final['img_name'].apply(str)\n",
    "df_final = df_final.replace('nan', np.nan)\n",
    "df_final.dropna(subset = [\"img_name\"], inplace=True)\n",
    "df_final = df_final.reset_index(drop=True)\n",
    "\n",
    "df_final['emotion'] = df_final['emotion'].map(di)\n",
    "df_final['emotion'] = df_final['emotion'].apply(str)\n",
    "\n",
    "df_final_test_generator=test_datagen.flow_from_dataframe(\n",
    "    dataframe=df_final,\n",
    "    directory=\"./FERPlus/data/FER2013Test\",\n",
    "    x_col=\"img_name\",\n",
    "    y_col=\"emotion\",\n",
    "    batch_size=32,\n",
    "    seed=42,\n",
    "    shuffle=True,\n",
    "    class_mode=\"categorical\",\n",
    "    target_size=(48,48))"
   ]
  },
  {
   "cell_type": "code",
   "execution_count": 8,
   "id": "ccb958fc",
   "metadata": {
    "execution": {
     "iopub.execute_input": "2022-02-26T12:01:46.980836Z",
     "iopub.status.busy": "2022-02-26T12:01:46.980265Z",
     "iopub.status.idle": "2022-02-26T12:01:47.187503Z",
     "shell.execute_reply": "2022-02-26T12:01:47.186785Z",
     "shell.execute_reply.started": "2022-02-25T20:30:14.911506Z"
    },
    "papermill": {
     "duration": 0.237594,
     "end_time": "2022-02-26T12:01:47.187621",
     "exception": false,
     "start_time": "2022-02-26T12:01:46.950027",
     "status": "completed"
    },
    "tags": []
   },
   "outputs": [
    {
     "data": {
      "text/plain": [
       "<AxesSubplot:>"
      ]
     },
     "execution_count": 8,
     "metadata": {},
     "output_type": "execute_result"
    },
    {
     "data": {
      "image/png": "[encoded data removed]",
      "text/plain": [
       "<Figure size 432x288 with 1 Axes>"
      ]
     },
     "metadata": {
      "needs_background": "light"
     },
     "output_type": "display_data"
    }
   ],
   "source": [
    "train_df.emotion.value_counts().sort_index(ascending=False).plot(kind='bar')"
   ]
  },
  {
   "cell_type": "code",
   "execution_count": 9,
   "id": "2ea36ba7",
   "metadata": {
    "execution": {
     "iopub.execute_input": "2022-02-26T12:01:47.234654Z",
     "iopub.status.busy": "2022-02-26T12:01:47.233862Z",
     "iopub.status.idle": "2022-02-26T12:01:47.424345Z",
     "shell.execute_reply": "2022-02-26T12:01:47.423615Z",
     "shell.execute_reply.started": "2022-02-25T20:30:15.128804Z"
    },
    "papermill": {
     "duration": 0.217204,
     "end_time": "2022-02-26T12:01:47.424458",
     "exception": false,
     "start_time": "2022-02-26T12:01:47.207254",
     "status": "completed"
    },
    "tags": []
   },
   "outputs": [
    {
     "data": {
      "text/plain": [
       "<AxesSubplot:>"
      ]
     },
     "execution_count": 9,
     "metadata": {},
     "output_type": "execute_result"
    },
    {
     "data": {
      "image/png": "[encoded data removed]",
      "text/plain": [
       "<Figure size 432x288 with 1 Axes>"
      ]
     },
     "metadata": {
      "needs_background": "light"
     },
     "output_type": "display_data"
    }
   ],
   "source": [
    "valid_df.emotion.value_counts().sort_index(ascending=False).plot(kind='bar')"
   ]
  },
  {
   "cell_type": "code",
   "execution_count": 10,
   "id": "c54583fb",
   "metadata": {
    "execution": {
     "iopub.execute_input": "2022-02-26T12:01:47.485317Z",
     "iopub.status.busy": "2022-02-26T12:01:47.483489Z",
     "iopub.status.idle": "2022-02-26T12:01:47.660947Z",
     "shell.execute_reply": "2022-02-26T12:01:47.660548Z",
     "shell.execute_reply.started": "2022-02-25T20:30:15.332096Z"
    },
    "papermill": {
     "duration": 0.216462,
     "end_time": "2022-02-26T12:01:47.661091",
     "exception": false,
     "start_time": "2022-02-26T12:01:47.444629",
     "status": "completed"
    },
    "tags": []
   },
   "outputs": [
    {
     "data": {
      "text/plain": [
       "<AxesSubplot:>"
      ]
     },
     "execution_count": 10,
     "metadata": {},
     "output_type": "execute_result"
    },
    {
     "data": {
      "image/png": "[encoded data removed]",
      "text/plain": [
       "<Figure size 432x288 with 1 Axes>"
      ]
     },
     "metadata": {
      "needs_background": "light"
     },
     "output_type": "display_data"
    }
   ],
   "source": [
    "test_df.emotion.value_counts().sort_index(ascending=False).plot(kind='bar')"
   ]
  },
  {
   "cell_type": "markdown",
   "id": "a23f98c7",
   "metadata": {
    "papermill": {
     "duration": 0.020948,
     "end_time": "2022-02-26T12:01:47.702817",
     "exception": false,
     "start_time": "2022-02-26T12:01:47.681869",
     "status": "completed"
    },
    "tags": []
   },
   "source": [
    "## Transfer learning"
   ]
  },
  {
   "cell_type": "code",
   "execution_count": 11,
   "id": "752a860e",
   "metadata": {
    "execution": {
     "iopub.execute_input": "2022-02-26T12:01:47.750403Z",
     "iopub.status.busy": "2022-02-26T12:01:47.749853Z",
     "iopub.status.idle": "2022-02-26T12:01:51.491386Z",
     "shell.execute_reply": "2022-02-26T12:01:51.490879Z",
     "shell.execute_reply.started": "2022-02-25T20:30:15.530532Z"
    },
    "papermill": {
     "duration": 3.768117,
     "end_time": "2022-02-26T12:01:51.491522",
     "exception": false,
     "start_time": "2022-02-26T12:01:47.723405",
     "status": "completed"
    },
    "tags": []
   },
   "outputs": [
    {
     "name": "stderr",
     "output_type": "stream",
     "text": [
      "2022-02-26 12:01:47.834241: I tensorflow/stream_executor/cuda/cuda_gpu_executor.cc:937] successful NUMA node read from SysFS had negative value (-1), but there must be at least one NUMA node, so returning NUMA node zero\n",
      "2022-02-26 12:01:47.936666: I tensorflow/stream_executor/cuda/cuda_gpu_executor.cc:937] successful NUMA node read from SysFS had negative value (-1), but there must be at least one NUMA node, so returning NUMA node zero\n",
      "2022-02-26 12:01:47.937368: I tensorflow/stream_executor/cuda/cuda_gpu_executor.cc:937] successful NUMA node read from SysFS had negative value (-1), but there must be at least one NUMA node, so returning NUMA node zero\n",
      "2022-02-26 12:01:47.938641: I tensorflow/core/platform/cpu_feature_guard.cc:142] This TensorFlow binary is optimized with oneAPI Deep Neural Network Library (oneDNN) to use the following CPU instructions in performance-critical operations:  AVX2 AVX512F FMA\n",
      "To enable them in other operations, rebuild TensorFlow with the appropriate compiler flags.\n",
      "2022-02-26 12:01:47.939790: I tensorflow/stream_executor/cuda/cuda_gpu_executor.cc:937] successful NUMA node read from SysFS had negative value (-1), but there must be at least one NUMA node, so returning NUMA node zero\n",
      "2022-02-26 12:01:47.940547: I tensorflow/stream_executor/cuda/cuda_gpu_executor.cc:937] successful NUMA node read from SysFS had negative value (-1), but there must be at least one NUMA node, so returning NUMA node zero\n",
      "2022-02-26 12:01:47.941197: I tensorflow/stream_executor/cuda/cuda_gpu_executor.cc:937] successful NUMA node read from SysFS had negative value (-1), but there must be at least one NUMA node, so returning NUMA node zero\n",
      "2022-02-26 12:01:49.843769: I tensorflow/stream_executor/cuda/cuda_gpu_executor.cc:937] successful NUMA node read from SysFS had negative value (-1), but there must be at least one NUMA node, so returning NUMA node zero\n",
      "2022-02-26 12:01:49.845124: I tensorflow/stream_executor/cuda/cuda_gpu_executor.cc:937] successful NUMA node read from SysFS had negative value (-1), but there must be at least one NUMA node, so returning NUMA node zero\n",
      "2022-02-26 12:01:49.846276: I tensorflow/stream_executor/cuda/cuda_gpu_executor.cc:937] successful NUMA node read from SysFS had negative value (-1), but there must be at least one NUMA node, so returning NUMA node zero\n",
      "2022-02-26 12:01:49.847340: I tensorflow/core/common_runtime/gpu/gpu_device.cc:1510] Created device /job:localhost/replica:0/task:0/device:GPU:0 with 15403 MB memory:  -> device: 0, name: Tesla P100-PCIE-16GB, pci bus id: 0000:00:04.0, compute capability: 6.0\n"
     ]
    },
    {
     "name": "stdout",
     "output_type": "stream",
     "text": [
      "Downloading data from https://storage.googleapis.com/tensorflow/keras-applications/mobilenet_v2/mobilenet_v2_weights_tf_dim_ordering_tf_kernels_1.0_224_no_top.h5\n",
      "9412608/9406464 [==============================] - 0s 0us/step\n",
      "9420800/9406464 [==============================] - 0s 0us/step\n"
     ]
    }
   ],
   "source": [
    "#importing mobilenet_v2\n",
    "mobilnet_model = tf.keras.applications.mobilenet_v2.MobileNetV2(input_shape =(48,48,3),\n",
    "    alpha=1.0, include_top=False, weights='imagenet', pooling=None,     \n",
    ")"
   ]
  },
  {
   "cell_type": "code",
   "execution_count": 12,
   "id": "0098daad",
   "metadata": {
    "execution": {
     "iopub.execute_input": "2022-02-26T12:01:51.555529Z",
     "iopub.status.busy": "2022-02-26T12:01:51.546183Z",
     "iopub.status.idle": "2022-02-26T12:01:51.620503Z",
     "shell.execute_reply": "2022-02-26T12:01:51.620102Z",
     "shell.execute_reply.started": "2022-02-25T20:30:18.993317Z"
    },
    "papermill": {
     "duration": 0.103473,
     "end_time": "2022-02-26T12:01:51.620644",
     "exception": false,
     "start_time": "2022-02-26T12:01:51.517171",
     "status": "completed"
    },
    "tags": []
   },
   "outputs": [
    {
     "name": "stdout",
     "output_type": "stream",
     "text": [
      "Model: \"mobilenetv2_1.00_224\"\n",
      "__________________________________________________________________________________________________\n",
      "Layer (type)                    Output Shape         Param #     Connected to                     \n",
      "==================================================================================================\n",
      "input_1 (InputLayer)            [(None, 48, 48, 3)]  0                                            \n",
      "__________________________________________________________________________________________________\n",
      "Conv1 (Conv2D)                  (None, 24, 24, 32)   864         input_1[0][0]                    \n",
      "__________________________________________________________________________________________________\n",
      "bn_Conv1 (BatchNormalization)   (None, 24, 24, 32)   128         Conv1[0][0]                      \n",
      "__________________________________________________________________________________________________\n",
      "Conv1_relu (ReLU)               (None, 24, 24, 32)   0           bn_Conv1[0][0]                   \n",
      "__________________________________________________________________________________________________\n",
      "expanded_conv_depthwise (Depthw (None, 24, 24, 32)   288         Conv1_relu[0][0]                 \n",
      "__________________________________________________________________________________________________\n",
      "expanded_conv_depthwise_BN (Bat (None, 24, 24, 32)   128         expanded_conv_depthwise[0][0]    \n",
      "__________________________________________________________________________________________________\n",
      "expanded_conv_depthwise_relu (R (None, 24, 24, 32)   0           expanded_conv_depthwise_BN[0][0] \n",
      "__________________________________________________________________________________________________\n",
      "expanded_conv_project (Conv2D)  (None, 24, 24, 16)   512         expanded_conv_depthwise_relu[0][0\n",
      "__________________________________________________________________________________________________\n",
      "expanded_conv_project_BN (Batch (None, 24, 24, 16)   64          expanded_conv_project[0][0]      \n",
      "__________________________________________________________________________________________________\n",
      "block_1_expand (Conv2D)         (None, 24, 24, 96)   1536        expanded_conv_project_BN[0][0]   \n",
      "__________________________________________________________________________________________________\n",
      "block_1_expand_BN (BatchNormali (None, 24, 24, 96)   384         block_1_expand[0][0]             \n",
      "__________________________________________________________________________________________________\n",
      "block_1_expand_relu (ReLU)      (None, 24, 24, 96)   0           block_1_expand_BN[0][0]          \n",
      "__________________________________________________________________________________________________\n",
      "block_1_pad (ZeroPadding2D)     (None, 25, 25, 96)   0           block_1_expand_relu[0][0]        \n",
      "__________________________________________________________________________________________________\n",
      "block_1_depthwise (DepthwiseCon (None, 12, 12, 96)   864         block_1_pad[0][0]                \n",
      "__________________________________________________________________________________________________\n",
      "block_1_depthwise_BN (BatchNorm (None, 12, 12, 96)   384         block_1_depthwise[0][0]          \n",
      "__________________________________________________________________________________________________\n",
      "block_1_depthwise_relu (ReLU)   (None, 12, 12, 96)   0           block_1_depthwise_BN[0][0]       \n",
      "__________________________________________________________________________________________________\n",
      "block_1_project (Conv2D)        (None, 12, 12, 24)   2304        block_1_depthwise_relu[0][0]     \n",
      "__________________________________________________________________________________________________\n",
      "block_1_project_BN (BatchNormal (None, 12, 12, 24)   96          block_1_project[0][0]            \n",
      "__________________________________________________________________________________________________\n",
      "block_2_expand (Conv2D)         (None, 12, 12, 144)  3456        block_1_project_BN[0][0]         \n",
      "__________________________________________________________________________________________________\n",
      "block_2_expand_BN (BatchNormali (None, 12, 12, 144)  576         block_2_expand[0][0]             \n",
      "__________________________________________________________________________________________________\n",
      "block_2_expand_relu (ReLU)      (None, 12, 12, 144)  0           block_2_expand_BN[0][0]          \n",
      "__________________________________________________________________________________________________\n",
      "block_2_depthwise (DepthwiseCon (None, 12, 12, 144)  1296        block_2_expand_relu[0][0]        \n",
      "__________________________________________________________________________________________________\n",
      "block_2_depthwise_BN (BatchNorm (None, 12, 12, 144)  576         block_2_depthwise[0][0]          \n",
      "__________________________________________________________________________________________________\n",
      "block_2_depthwise_relu (ReLU)   (None, 12, 12, 144)  0           block_2_depthwise_BN[0][0]       \n",
      "__________________________________________________________________________________________________\n",
      "block_2_project (Conv2D)        (None, 12, 12, 24)   3456        block_2_depthwise_relu[0][0]     \n",
      "__________________________________________________________________________________________________\n",
      "block_2_project_BN (BatchNormal (None, 12, 12, 24)   96          block_2_project[0][0]            \n",
      "__________________________________________________________________________________________________\n",
      "block_2_add (Add)               (None, 12, 12, 24)   0           block_1_project_BN[0][0]         \n",
      "                                                                 block_2_project_BN[0][0]         \n",
      "__________________________________________________________________________________________________\n",
      "block_3_expand (Conv2D)         (None, 12, 12, 144)  3456        block_2_add[0][0]                \n",
      "__________________________________________________________________________________________________\n",
      "block_3_expand_BN (BatchNormali (None, 12, 12, 144)  576         block_3_expand[0][0]             \n",
      "__________________________________________________________________________________________________\n",
      "block_3_expand_relu (ReLU)      (None, 12, 12, 144)  0           block_3_expand_BN[0][0]          \n",
      "__________________________________________________________________________________________________\n",
      "block_3_pad (ZeroPadding2D)     (None, 13, 13, 144)  0           block_3_expand_relu[0][0]        \n",
      "__________________________________________________________________________________________________\n",
      "block_3_depthwise (DepthwiseCon (None, 6, 6, 144)    1296        block_3_pad[0][0]                \n",
      "__________________________________________________________________________________________________\n",
      "block_3_depthwise_BN (BatchNorm (None, 6, 6, 144)    576         block_3_depthwise[0][0]          \n",
      "__________________________________________________________________________________________________\n",
      "block_3_depthwise_relu (ReLU)   (None, 6, 6, 144)    0           block_3_depthwise_BN[0][0]       \n",
      "__________________________________________________________________________________________________\n",
      "block_3_project (Conv2D)        (None, 6, 6, 32)     4608        block_3_depthwise_relu[0][0]     \n",
      "__________________________________________________________________________________________________\n",
      "block_3_project_BN (BatchNormal (None, 6, 6, 32)     128         block_3_project[0][0]            \n",
      "__________________________________________________________________________________________________\n",
      "block_4_expand (Conv2D)         (None, 6, 6, 192)    6144        block_3_project_BN[0][0]         \n",
      "__________________________________________________________________________________________________\n",
      "block_4_expand_BN (BatchNormali (None, 6, 6, 192)    768         block_4_expand[0][0]             \n",
      "__________________________________________________________________________________________________\n",
      "block_4_expand_relu (ReLU)      (None, 6, 6, 192)    0           block_4_expand_BN[0][0]          \n",
      "__________________________________________________________________________________________________\n",
      "block_4_depthwise (DepthwiseCon (None, 6, 6, 192)    1728        block_4_expand_relu[0][0]        \n",
      "__________________________________________________________________________________________________\n",
      "block_4_depthwise_BN (BatchNorm (None, 6, 6, 192)    768         block_4_depthwise[0][0]          \n",
      "__________________________________________________________________________________________________\n",
      "block_4_depthwise_relu (ReLU)   (None, 6, 6, 192)    0           block_4_depthwise_BN[0][0]       \n",
      "__________________________________________________________________________________________________\n",
      "block_4_project (Conv2D)        (None, 6, 6, 32)     6144        block_4_depthwise_relu[0][0]     \n",
      "__________________________________________________________________________________________________\n",
      "block_4_project_BN (BatchNormal (None, 6, 6, 32)     128         block_4_project[0][0]            \n",
      "__________________________________________________________________________________________________\n",
      "block_4_add (Add)               (None, 6, 6, 32)     0           block_3_project_BN[0][0]         \n",
      "                                                                 block_4_project_BN[0][0]         \n",
      "__________________________________________________________________________________________________\n",
      "block_5_expand (Conv2D)         (None, 6, 6, 192)    6144        block_4_add[0][0]                \n",
      "__________________________________________________________________________________________________\n",
      "block_5_expand_BN (BatchNormali (None, 6, 6, 192)    768         block_5_expand[0][0]             \n",
      "__________________________________________________________________________________________________\n",
      "block_5_expand_relu (ReLU)      (None, 6, 6, 192)    0           block_5_expand_BN[0][0]          \n",
      "__________________________________________________________________________________________________\n",
      "block_5_depthwise (DepthwiseCon (None, 6, 6, 192)    1728        block_5_expand_relu[0][0]        \n",
      "__________________________________________________________________________________________________\n",
      "block_5_depthwise_BN (BatchNorm (None, 6, 6, 192)    768         block_5_depthwise[0][0]          \n",
      "__________________________________________________________________________________________________\n",
      "block_5_depthwise_relu (ReLU)   (None, 6, 6, 192)    0           block_5_depthwise_BN[0][0]       \n",
      "__________________________________________________________________________________________________\n",
      "block_5_project (Conv2D)        (None, 6, 6, 32)     6144        block_5_depthwise_relu[0][0]     \n",
      "__________________________________________________________________________________________________\n",
      "block_5_project_BN (BatchNormal (None, 6, 6, 32)     128         block_5_project[0][0]            \n",
      "__________________________________________________________________________________________________\n",
      "block_5_add (Add)               (None, 6, 6, 32)     0           block_4_add[0][0]                \n",
      "                                                                 block_5_project_BN[0][0]         \n",
      "__________________________________________________________________________________________________\n",
      "block_6_expand (Conv2D)         (None, 6, 6, 192)    6144        block_5_add[0][0]                \n",
      "__________________________________________________________________________________________________\n",
      "block_6_expand_BN (BatchNormali (None, 6, 6, 192)    768         block_6_expand[0][0]             \n",
      "__________________________________________________________________________________________________\n",
      "block_6_expand_relu (ReLU)      (None, 6, 6, 192)    0           block_6_expand_BN[0][0]          \n",
      "__________________________________________________________________________________________________\n",
      "block_6_pad (ZeroPadding2D)     (None, 7, 7, 192)    0           block_6_expand_relu[0][0]        \n",
      "__________________________________________________________________________________________________\n",
      "block_6_depthwise (DepthwiseCon (None, 3, 3, 192)    1728        block_6_pad[0][0]                \n",
      "__________________________________________________________________________________________________\n",
      "block_6_depthwise_BN (BatchNorm (None, 3, 3, 192)    768         block_6_depthwise[0][0]          \n",
      "__________________________________________________________________________________________________\n",
      "block_6_depthwise_relu (ReLU)   (None, 3, 3, 192)    0           block_6_depthwise_BN[0][0]       \n",
      "__________________________________________________________________________________________________\n",
      "block_6_project (Conv2D)        (None, 3, 3, 64)     12288       block_6_depthwise_relu[0][0]     \n",
      "__________________________________________________________________________________________________\n",
      "block_6_project_BN (BatchNormal (None, 3, 3, 64)     256         block_6_project[0][0]            \n",
      "__________________________________________________________________________________________________\n",
      "block_7_expand (Conv2D)         (None, 3, 3, 384)    24576       block_6_project_BN[0][0]         \n",
      "__________________________________________________________________________________________________\n",
      "block_7_expand_BN (BatchNormali (None, 3, 3, 384)    1536        block_7_expand[0][0]             \n",
      "__________________________________________________________________________________________________\n",
      "block_7_expand_relu (ReLU)      (None, 3, 3, 384)    0           block_7_expand_BN[0][0]          \n",
      "__________________________________________________________________________________________________\n",
      "block_7_depthwise (DepthwiseCon (None, 3, 3, 384)    3456        block_7_expand_relu[0][0]        \n",
      "__________________________________________________________________________________________________\n",
      "block_7_depthwise_BN (BatchNorm (None, 3, 3, 384)    1536        block_7_depthwise[0][0]          \n",
      "__________________________________________________________________________________________________\n",
      "block_7_depthwise_relu (ReLU)   (None, 3, 3, 384)    0           block_7_depthwise_BN[0][0]       \n",
      "__________________________________________________________________________________________________\n",
      "block_7_project (Conv2D)        (None, 3, 3, 64)     24576       block_7_depthwise_relu[0][0]     \n",
      "__________________________________________________________________________________________________\n",
      "block_7_project_BN (BatchNormal (None, 3, 3, 64)     256         block_7_project[0][0]            \n",
      "__________________________________________________________________________________________________\n",
      "block_7_add (Add)               (None, 3, 3, 64)     0           block_6_project_BN[0][0]         \n",
      "                                                                 block_7_project_BN[0][0]         \n",
      "__________________________________________________________________________________________________\n",
      "block_8_expand (Conv2D)         (None, 3, 3, 384)    24576       block_7_add[0][0]                \n",
      "__________________________________________________________________________________________________\n",
      "block_8_expand_BN (BatchNormali (None, 3, 3, 384)    1536        block_8_expand[0][0]             \n",
      "__________________________________________________________________________________________________\n",
      "block_8_expand_relu (ReLU)      (None, 3, 3, 384)    0           block_8_expand_BN[0][0]          \n",
      "__________________________________________________________________________________________________\n",
      "block_8_depthwise (DepthwiseCon (None, 3, 3, 384)    3456        block_8_expand_relu[0][0]        \n",
      "__________________________________________________________________________________________________\n",
      "block_8_depthwise_BN (BatchNorm (None, 3, 3, 384)    1536        block_8_depthwise[0][0]          \n",
      "__________________________________________________________________________________________________\n",
      "block_8_depthwise_relu (ReLU)   (None, 3, 3, 384)    0           block_8_depthwise_BN[0][0]       \n",
      "__________________________________________________________________________________________________\n",
      "block_8_project (Conv2D)        (None, 3, 3, 64)     24576       block_8_depthwise_relu[0][0]     \n",
      "__________________________________________________________________________________________________\n",
      "block_8_project_BN (BatchNormal (None, 3, 3, 64)     256         block_8_project[0][0]            \n",
      "__________________________________________________________________________________________________\n",
      "block_8_add (Add)               (None, 3, 3, 64)     0           block_7_add[0][0]                \n",
      "                                                                 block_8_project_BN[0][0]         \n",
      "__________________________________________________________________________________________________\n",
      "block_9_expand (Conv2D)         (None, 3, 3, 384)    24576       block_8_add[0][0]                \n",
      "__________________________________________________________________________________________________\n",
      "block_9_expand_BN (BatchNormali (None, 3, 3, 384)    1536        block_9_expand[0][0]             \n",
      "__________________________________________________________________________________________________\n",
      "block_9_expand_relu (ReLU)      (None, 3, 3, 384)    0           block_9_expand_BN[0][0]          \n",
      "__________________________________________________________________________________________________\n",
      "block_9_depthwise (DepthwiseCon (None, 3, 3, 384)    3456        block_9_expand_relu[0][0]        \n",
      "__________________________________________________________________________________________________\n",
      "block_9_depthwise_BN (BatchNorm (None, 3, 3, 384)    1536        block_9_depthwise[0][0]          \n",
      "__________________________________________________________________________________________________\n",
      "block_9_depthwise_relu (ReLU)   (None, 3, 3, 384)    0           block_9_depthwise_BN[0][0]       \n",
      "__________________________________________________________________________________________________\n",
      "block_9_project (Conv2D)        (None, 3, 3, 64)     24576       block_9_depthwise_relu[0][0]     \n",
      "__________________________________________________________________________________________________\n",
      "block_9_project_BN (BatchNormal (None, 3, 3, 64)     256         block_9_project[0][0]            \n",
      "__________________________________________________________________________________________________\n",
      "block_9_add (Add)               (None, 3, 3, 64)     0           block_8_add[0][0]                \n",
      "                                                                 block_9_project_BN[0][0]         \n",
      "__________________________________________________________________________________________________\n",
      "block_10_expand (Conv2D)        (None, 3, 3, 384)    24576       block_9_add[0][0]                \n",
      "__________________________________________________________________________________________________\n",
      "block_10_expand_BN (BatchNormal (None, 3, 3, 384)    1536        block_10_expand[0][0]            \n",
      "__________________________________________________________________________________________________\n",
      "block_10_expand_relu (ReLU)     (None, 3, 3, 384)    0           block_10_expand_BN[0][0]         \n",
      "__________________________________________________________________________________________________\n",
      "block_10_depthwise (DepthwiseCo (None, 3, 3, 384)    3456        block_10_expand_relu[0][0]       \n",
      "__________________________________________________________________________________________________\n",
      "block_10_depthwise_BN (BatchNor (None, 3, 3, 384)    1536        block_10_depthwise[0][0]         \n",
      "__________________________________________________________________________________________________\n",
      "block_10_depthwise_relu (ReLU)  (None, 3, 3, 384)    0           block_10_depthwise_BN[0][0]      \n",
      "__________________________________________________________________________________________________\n",
      "block_10_project (Conv2D)       (None, 3, 3, 96)     36864       block_10_depthwise_relu[0][0]    \n",
      "__________________________________________________________________________________________________\n",
      "block_10_project_BN (BatchNorma (None, 3, 3, 96)     384         block_10_project[0][0]           \n",
      "__________________________________________________________________________________________________\n",
      "block_11_expand (Conv2D)        (None, 3, 3, 576)    55296       block_10_project_BN[0][0]        \n",
      "__________________________________________________________________________________________________\n",
      "block_11_expand_BN (BatchNormal (None, 3, 3, 576)    2304        block_11_expand[0][0]            \n",
      "__________________________________________________________________________________________________\n",
      "block_11_expand_relu (ReLU)     (None, 3, 3, 576)    0           block_11_expand_BN[0][0]         \n",
      "__________________________________________________________________________________________________\n",
      "block_11_depthwise (DepthwiseCo (None, 3, 3, 576)    5184        block_11_expand_relu[0][0]       \n",
      "__________________________________________________________________________________________________\n",
      "block_11_depthwise_BN (BatchNor (None, 3, 3, 576)    2304        block_11_depthwise[0][0]         \n",
      "__________________________________________________________________________________________________\n",
      "block_11_depthwise_relu (ReLU)  (None, 3, 3, 576)    0           block_11_depthwise_BN[0][0]      \n",
      "__________________________________________________________________________________________________\n",
      "block_11_project (Conv2D)       (None, 3, 3, 96)     55296       block_11_depthwise_relu[0][0]    \n",
      "__________________________________________________________________________________________________\n",
      "block_11_project_BN (BatchNorma (None, 3, 3, 96)     384         block_11_project[0][0]           \n",
      "__________________________________________________________________________________________________\n",
      "block_11_add (Add)              (None, 3, 3, 96)     0           block_10_project_BN[0][0]        \n",
      "                                                                 block_11_project_BN[0][0]        \n",
      "__________________________________________________________________________________________________\n",
      "block_12_expand (Conv2D)        (None, 3, 3, 576)    55296       block_11_add[0][0]               \n",
      "__________________________________________________________________________________________________\n",
      "block_12_expand_BN (BatchNormal (None, 3, 3, 576)    2304        block_12_expand[0][0]            \n",
      "__________________________________________________________________________________________________\n",
      "block_12_expand_relu (ReLU)     (None, 3, 3, 576)    0           block_12_expand_BN[0][0]         \n",
      "__________________________________________________________________________________________________\n",
      "block_12_depthwise (DepthwiseCo (None, 3, 3, 576)    5184        block_12_expand_relu[0][0]       \n",
      "__________________________________________________________________________________________________\n",
      "block_12_depthwise_BN (BatchNor (None, 3, 3, 576)    2304        block_12_depthwise[0][0]         \n",
      "__________________________________________________________________________________________________\n",
      "block_12_depthwise_relu (ReLU)  (None, 3, 3, 576)    0           block_12_depthwise_BN[0][0]      \n",
      "__________________________________________________________________________________________________\n",
      "block_12_project (Conv2D)       (None, 3, 3, 96)     55296       block_12_depthwise_relu[0][0]    \n",
      "__________________________________________________________________________________________________\n",
      "block_12_project_BN (BatchNorma (None, 3, 3, 96)     384         block_12_project[0][0]           \n",
      "__________________________________________________________________________________________________\n",
      "block_12_add (Add)              (None, 3, 3, 96)     0           block_11_add[0][0]               \n",
      "                                                                 block_12_project_BN[0][0]        \n",
      "__________________________________________________________________________________________________\n",
      "block_13_expand (Conv2D)        (None, 3, 3, 576)    55296       block_12_add[0][0]               \n",
      "__________________________________________________________________________________________________\n",
      "block_13_expand_BN (BatchNormal (None, 3, 3, 576)    2304        block_13_expand[0][0]            \n",
      "__________________________________________________________________________________________________\n",
      "block_13_expand_relu (ReLU)     (None, 3, 3, 576)    0           block_13_expand_BN[0][0]         \n",
      "__________________________________________________________________________________________________\n",
      "block_13_pad (ZeroPadding2D)    (None, 5, 5, 576)    0           block_13_expand_relu[0][0]       \n",
      "__________________________________________________________________________________________________\n",
      "block_13_depthwise (DepthwiseCo (None, 2, 2, 576)    5184        block_13_pad[0][0]               \n",
      "__________________________________________________________________________________________________\n",
      "block_13_depthwise_BN (BatchNor (None, 2, 2, 576)    2304        block_13_depthwise[0][0]         \n",
      "__________________________________________________________________________________________________\n",
      "block_13_depthwise_relu (ReLU)  (None, 2, 2, 576)    0           block_13_depthwise_BN[0][0]      \n",
      "__________________________________________________________________________________________________\n",
      "block_13_project (Conv2D)       (None, 2, 2, 160)    92160       block_13_depthwise_relu[0][0]    \n",
      "__________________________________________________________________________________________________\n",
      "block_13_project_BN (BatchNorma (None, 2, 2, 160)    640         block_13_project[0][0]           \n",
      "__________________________________________________________________________________________________\n",
      "block_14_expand (Conv2D)        (None, 2, 2, 960)    153600      block_13_project_BN[0][0]        \n",
      "__________________________________________________________________________________________________\n",
      "block_14_expand_BN (BatchNormal (None, 2, 2, 960)    3840        block_14_expand[0][0]            \n",
      "__________________________________________________________________________________________________\n",
      "block_14_expand_relu (ReLU)     (None, 2, 2, 960)    0           block_14_expand_BN[0][0]         \n",
      "__________________________________________________________________________________________________\n",
      "block_14_depthwise (DepthwiseCo (None, 2, 2, 960)    8640        block_14_expand_relu[0][0]       \n",
      "__________________________________________________________________________________________________\n",
      "block_14_depthwise_BN (BatchNor (None, 2, 2, 960)    3840        block_14_depthwise[0][0]         \n",
      "__________________________________________________________________________________________________\n",
      "block_14_depthwise_relu (ReLU)  (None, 2, 2, 960)    0           block_14_depthwise_BN[0][0]      \n",
      "__________________________________________________________________________________________________\n",
      "block_14_project (Conv2D)       (None, 2, 2, 160)    153600      block_14_depthwise_relu[0][0]    \n",
      "__________________________________________________________________________________________________\n",
      "block_14_project_BN (BatchNorma (None, 2, 2, 160)    640         block_14_project[0][0]           \n",
      "__________________________________________________________________________________________________\n",
      "block_14_add (Add)              (None, 2, 2, 160)    0           block_13_project_BN[0][0]        \n",
      "                                                                 block_14_project_BN[0][0]        \n",
      "__________________________________________________________________________________________________\n",
      "block_15_expand (Conv2D)        (None, 2, 2, 960)    153600      block_14_add[0][0]               \n",
      "__________________________________________________________________________________________________\n",
      "block_15_expand_BN (BatchNormal (None, 2, 2, 960)    3840        block_15_expand[0][0]            \n",
      "__________________________________________________________________________________________________\n",
      "block_15_expand_relu (ReLU)     (None, 2, 2, 960)    0           block_15_expand_BN[0][0]         \n",
      "__________________________________________________________________________________________________\n",
      "block_15_depthwise (DepthwiseCo (None, 2, 2, 960)    8640        block_15_expand_relu[0][0]       \n",
      "__________________________________________________________________________________________________\n",
      "block_15_depthwise_BN (BatchNor (None, 2, 2, 960)    3840        block_15_depthwise[0][0]         \n",
      "__________________________________________________________________________________________________\n",
      "block_15_depthwise_relu (ReLU)  (None, 2, 2, 960)    0           block_15_depthwise_BN[0][0]      \n",
      "__________________________________________________________________________________________________\n",
      "block_15_project (Conv2D)       (None, 2, 2, 160)    153600      block_15_depthwise_relu[0][0]    \n",
      "__________________________________________________________________________________________________\n",
      "block_15_project_BN (BatchNorma (None, 2, 2, 160)    640         block_15_project[0][0]           \n",
      "__________________________________________________________________________________________________\n",
      "block_15_add (Add)              (None, 2, 2, 160)    0           block_14_add[0][0]               \n",
      "                                                                 block_15_project_BN[0][0]        \n",
      "__________________________________________________________________________________________________\n",
      "block_16_expand (Conv2D)        (None, 2, 2, 960)    153600      block_15_add[0][0]               \n",
      "__________________________________________________________________________________________________\n",
      "block_16_expand_BN (BatchNormal (None, 2, 2, 960)    3840        block_16_expand[0][0]            \n",
      "__________________________________________________________________________________________________\n",
      "block_16_expand_relu (ReLU)     (None, 2, 2, 960)    0           block_16_expand_BN[0][0]         \n",
      "__________________________________________________________________________________________________\n",
      "block_16_depthwise (DepthwiseCo (None, 2, 2, 960)    8640        block_16_expand_relu[0][0]       \n",
      "__________________________________________________________________________________________________\n",
      "block_16_depthwise_BN (BatchNor (None, 2, 2, 960)    3840        block_16_depthwise[0][0]         \n",
      "__________________________________________________________________________________________________\n",
      "block_16_depthwise_relu (ReLU)  (None, 2, 2, 960)    0           block_16_depthwise_BN[0][0]      \n",
      "__________________________________________________________________________________________________\n",
      "block_16_project (Conv2D)       (None, 2, 2, 320)    307200      block_16_depthwise_relu[0][0]    \n",
      "__________________________________________________________________________________________________\n",
      "block_16_project_BN (BatchNorma (None, 2, 2, 320)    1280        block_16_project[0][0]           \n",
      "__________________________________________________________________________________________________\n",
      "Conv_1 (Conv2D)                 (None, 2, 2, 1280)   409600      block_16_project_BN[0][0]        \n",
      "__________________________________________________________________________________________________\n",
      "Conv_1_bn (BatchNormalization)  (None, 2, 2, 1280)   5120        Conv_1[0][0]                     \n",
      "__________________________________________________________________________________________________\n",
      "out_relu (ReLU)                 (None, 2, 2, 1280)   0           Conv_1_bn[0][0]                  \n",
      "==================================================================================================\n",
      "Total params: 2,257,984\n",
      "Trainable params: 2,223,872\n",
      "Non-trainable params: 34,112\n",
      "__________________________________________________________________________________________________\n"
     ]
    }
   ],
   "source": [
    "mobilnet_model.summary()"
   ]
  },
  {
   "cell_type": "code",
   "execution_count": 13,
   "id": "aa8bbcac",
   "metadata": {
    "execution": {
     "iopub.execute_input": "2022-02-26T12:01:51.677555Z",
     "iopub.status.busy": "2022-02-26T12:01:51.676847Z",
     "iopub.status.idle": "2022-02-26T12:01:52.205690Z",
     "shell.execute_reply": "2022-02-26T12:01:52.205253Z",
     "shell.execute_reply.started": "2022-02-25T20:30:19.067607Z"
    },
    "papermill": {
     "duration": 0.561837,
     "end_time": "2022-02-26T12:01:52.205813",
     "exception": false,
     "start_time": "2022-02-26T12:01:51.643976",
     "status": "completed"
    },
    "tags": []
   },
   "outputs": [
    {
     "name": "stdout",
     "output_type": "stream",
     "text": [
      "Model: \"sequential\"\n",
      "_________________________________________________________________\n",
      "Layer (type)                 Output Shape              Param #   \n",
      "=================================================================\n",
      "mobilenetv2_1.00_224 (Functi (None, 2, 2, 1280)        2257984   \n",
      "_________________________________________________________________\n",
      "global_max_pooling2d (Global (None, 1280)              0         \n",
      "_________________________________________________________________\n",
      "dense (Dense)                (None, 1048)              1342488   \n",
      "_________________________________________________________________\n",
      "dropout (Dropout)            (None, 1048)              0         \n",
      "_________________________________________________________________\n",
      "dense_1 (Dense)              (None, 1048)              1099352   \n",
      "_________________________________________________________________\n",
      "dense_2 (Dense)              (None, 10)                10490     \n",
      "=================================================================\n",
      "Total params: 4,710,314\n",
      "Trainable params: 4,676,202\n",
      "Non-trainable params: 34,112\n",
      "_________________________________________________________________\n"
     ]
    }
   ],
   "source": [
    "from keras import Sequential\n",
    "from keras.layers import Dense,Flatten,Dropout,MaxPooling2D,Conv2D,GlobalMaxPooling2D,BatchNormalization\n",
    "np.random.seed(42)\n",
    "tf.random.set_seed(42)\n",
    "\n",
    "\n",
    "model = Sequential([\n",
    "    mobilnet_model,\n",
    "    GlobalMaxPooling2D(),\n",
    "    Dense(1048, activation='relu'),\n",
    "    Dropout(0.9),\n",
    "    Dense(1048, activation='relu'),\n",
    "    Dense(10, activation='softmax')\n",
    "])\n",
    "model.summary()\n",
    "\n",
    "learning_rate = 0.0001\n",
    "optimizer = tf.keras.optimizers.Adam(learning_rate = learning_rate)\n",
    "model.compile(optimizer = optimizer, \n",
    "              loss = tf.keras.losses.CategoricalCrossentropy(), \n",
    "              metrics = ['accuracy'])\n",
    "\n",
    "STEP_SIZE_TRAIN = train_generator.n // train_generator.batch_size\n",
    "STEP_SIZE_VALID = valid_generator.n // valid_generator.batch_size"
   ]
  },
  {
   "cell_type": "markdown",
   "id": "d80612d9",
   "metadata": {
    "papermill": {
     "duration": 0.022635,
     "end_time": "2022-02-26T12:01:52.252312",
     "exception": false,
     "start_time": "2022-02-26T12:01:52.229677",
     "status": "completed"
    },
    "tags": []
   },
   "source": []
  },
  {
   "cell_type": "code",
   "execution_count": 14,
   "id": "74418f29",
   "metadata": {
    "execution": {
     "iopub.execute_input": "2022-02-26T12:01:52.303591Z",
     "iopub.status.busy": "2022-02-26T12:01:52.302918Z",
     "iopub.status.idle": "2022-02-26T12:53:39.372546Z",
     "shell.execute_reply": "2022-02-26T12:53:39.372035Z",
     "shell.execute_reply.started": "2022-02-25T20:30:19.611129Z"
    },
    "papermill": {
     "duration": 3107.097674,
     "end_time": "2022-02-26T12:53:39.372684",
     "exception": false,
     "start_time": "2022-02-26T12:01:52.275010",
     "status": "completed"
    },
    "tags": []
   },
   "outputs": [
    {
     "name": "stderr",
     "output_type": "stream",
     "text": [
      "2022-02-26 12:01:52.407838: I tensorflow/compiler/mlir/mlir_graph_optimization_pass.cc:185] None of the MLIR Optimization Passes are enabled (registered 2)\n"
     ]
    },
    {
     "name": "stdout",
     "output_type": "stream",
     "text": [
      "Epoch 1/50\n"
     ]
    },
    {
     "name": "stderr",
     "output_type": "stream",
     "text": [
      "2022-02-26 12:01:57.557642: I tensorflow/stream_executor/cuda/cuda_dnn.cc:369] Loaded cuDNN version 8005\n"
     ]
    },
    {
     "name": "stdout",
     "output_type": "stream",
     "text": [
      "892/892 [==============================] - 56s 50ms/step - loss: 1.9888 - accuracy: 0.3127 - val_loss: 1.5710 - val_accuracy: 0.3972\n",
      "Epoch 2/50\n",
      "892/892 [==============================] - 45s 50ms/step - loss: 1.5954 - accuracy: 0.4047 - val_loss: 1.5219 - val_accuracy: 0.4217\n",
      "Epoch 3/50\n",
      "892/892 [==============================] - 44s 49ms/step - loss: 1.4789 - accuracy: 0.4764 - val_loss: 1.4351 - val_accuracy: 0.5023\n",
      "Epoch 4/50\n",
      "892/892 [==============================] - 45s 51ms/step - loss: 1.3896 - accuracy: 0.5190 - val_loss: 1.2897 - val_accuracy: 0.5746\n",
      "Epoch 5/50\n",
      "892/892 [==============================] - 45s 50ms/step - loss: 1.3166 - accuracy: 0.5520 - val_loss: 1.2165 - val_accuracy: 0.5991\n",
      "Epoch 6/50\n",
      "892/892 [==============================] - 45s 51ms/step - loss: 1.2700 - accuracy: 0.5746 - val_loss: 1.2171 - val_accuracy: 0.6002\n",
      "Epoch 7/50\n",
      "892/892 [==============================] - 44s 50ms/step - loss: 1.1993 - accuracy: 0.6019 - val_loss: 1.1840 - val_accuracy: 0.6090\n",
      "Epoch 8/50\n",
      "892/892 [==============================] - 45s 51ms/step - loss: 1.1438 - accuracy: 0.6199 - val_loss: 1.0701 - val_accuracy: 0.6529\n",
      "Epoch 9/50\n",
      "892/892 [==============================] - 45s 51ms/step - loss: 1.1029 - accuracy: 0.6352 - val_loss: 1.0195 - val_accuracy: 0.6788\n",
      "Epoch 10/50\n",
      "892/892 [==============================] - 45s 51ms/step - loss: 1.0688 - accuracy: 0.6483 - val_loss: 1.0590 - val_accuracy: 0.6529\n",
      "Epoch 11/50\n",
      "892/892 [==============================] - 48s 53ms/step - loss: 1.0231 - accuracy: 0.6603 - val_loss: 0.9611 - val_accuracy: 0.6858\n",
      "Epoch 12/50\n",
      "892/892 [==============================] - 47s 53ms/step - loss: 0.9788 - accuracy: 0.6761 - val_loss: 0.9478 - val_accuracy: 0.6959\n",
      "Epoch 13/50\n",
      "892/892 [==============================] - 47s 53ms/step - loss: 0.9455 - accuracy: 0.6846 - val_loss: 0.8926 - val_accuracy: 0.7179\n",
      "Epoch 14/50\n",
      "892/892 [==============================] - 47s 53ms/step - loss: 0.9199 - accuracy: 0.6964 - val_loss: 0.8843 - val_accuracy: 0.7081\n",
      "Epoch 15/50\n",
      "892/892 [==============================] - 48s 54ms/step - loss: 0.8906 - accuracy: 0.7006 - val_loss: 0.8622 - val_accuracy: 0.7137\n",
      "Epoch 16/50\n",
      "892/892 [==============================] - 46s 51ms/step - loss: 0.8776 - accuracy: 0.7104 - val_loss: 0.8295 - val_accuracy: 0.7331\n",
      "Epoch 17/50\n",
      "892/892 [==============================] - 46s 52ms/step - loss: 0.8398 - accuracy: 0.7206 - val_loss: 0.9164 - val_accuracy: 0.7188\n",
      "Epoch 18/50\n",
      "892/892 [==============================] - 47s 53ms/step - loss: 0.8374 - accuracy: 0.7244 - val_loss: 0.8556 - val_accuracy: 0.7218\n",
      "Epoch 19/50\n",
      "892/892 [==============================] - 46s 52ms/step - loss: 0.8097 - accuracy: 0.7287 - val_loss: 0.8558 - val_accuracy: 0.7258\n",
      "Epoch 20/50\n",
      "892/892 [==============================] - 46s 52ms/step - loss: 0.7856 - accuracy: 0.7406 - val_loss: 0.8561 - val_accuracy: 0.7249\n",
      "Epoch 21/50\n",
      "892/892 [==============================] - 46s 52ms/step - loss: 0.8025 - accuracy: 0.7353 - val_loss: 0.8193 - val_accuracy: 0.7328\n",
      "Epoch 22/50\n",
      "892/892 [==============================] - 46s 51ms/step - loss: 0.7626 - accuracy: 0.7445 - val_loss: 0.7948 - val_accuracy: 0.7314\n",
      "Epoch 23/50\n",
      "892/892 [==============================] - 46s 52ms/step - loss: 0.7289 - accuracy: 0.7571 - val_loss: 0.7553 - val_accuracy: 0.7542\n",
      "Epoch 24/50\n",
      "892/892 [==============================] - 46s 52ms/step - loss: 0.7395 - accuracy: 0.7551 - val_loss: 0.7807 - val_accuracy: 0.7320\n",
      "Epoch 25/50\n",
      "892/892 [==============================] - 44s 49ms/step - loss: 0.7403 - accuracy: 0.7533 - val_loss: 0.8095 - val_accuracy: 0.7373\n",
      "Epoch 26/50\n",
      "892/892 [==============================] - 46s 52ms/step - loss: 0.7138 - accuracy: 0.7612 - val_loss: 0.7430 - val_accuracy: 0.7508\n",
      "Epoch 27/50\n",
      "892/892 [==============================] - 47s 53ms/step - loss: 0.7065 - accuracy: 0.7625 - val_loss: 0.7268 - val_accuracy: 0.7469\n",
      "Epoch 28/50\n",
      "892/892 [==============================] - 47s 52ms/step - loss: 0.6853 - accuracy: 0.7722 - val_loss: 0.7245 - val_accuracy: 0.7506\n",
      "Epoch 29/50\n",
      "892/892 [==============================] - 44s 49ms/step - loss: 0.6804 - accuracy: 0.7700 - val_loss: 0.7820 - val_accuracy: 0.7444\n",
      "Epoch 30/50\n",
      "892/892 [==============================] - 47s 53ms/step - loss: 0.6702 - accuracy: 0.7757 - val_loss: 0.7236 - val_accuracy: 0.7638\n",
      "Epoch 31/50\n",
      "892/892 [==============================] - 48s 54ms/step - loss: 0.6533 - accuracy: 0.7795 - val_loss: 0.7092 - val_accuracy: 0.7717\n",
      "Epoch 32/50\n",
      "892/892 [==============================] - 48s 54ms/step - loss: 0.6291 - accuracy: 0.7879 - val_loss: 0.7349 - val_accuracy: 0.7500\n",
      "Epoch 33/50\n",
      "892/892 [==============================] - 48s 54ms/step - loss: 0.6409 - accuracy: 0.7830 - val_loss: 0.6833 - val_accuracy: 0.7742\n",
      "Epoch 34/50\n",
      "892/892 [==============================] - 49s 55ms/step - loss: 0.6090 - accuracy: 0.7962 - val_loss: 0.7084 - val_accuracy: 0.7601\n",
      "Epoch 35/50\n",
      "892/892 [==============================] - 45s 51ms/step - loss: 0.6358 - accuracy: 0.7874 - val_loss: 0.7958 - val_accuracy: 0.7272\n",
      "Epoch 36/50\n",
      "892/892 [==============================] - 49s 55ms/step - loss: 0.6182 - accuracy: 0.7947 - val_loss: 0.6807 - val_accuracy: 0.7728\n",
      "Epoch 37/50\n",
      "892/892 [==============================] - 48s 54ms/step - loss: 0.5909 - accuracy: 0.7994 - val_loss: 0.6692 - val_accuracy: 0.7706\n",
      "Epoch 38/50\n",
      "892/892 [==============================] - 49s 55ms/step - loss: 0.5956 - accuracy: 0.7979 - val_loss: 0.6950 - val_accuracy: 0.7576\n",
      "Epoch 39/50\n",
      "892/892 [==============================] - 48s 54ms/step - loss: 0.5640 - accuracy: 0.8099 - val_loss: 0.7046 - val_accuracy: 0.7531\n",
      "Epoch 40/50\n",
      "892/892 [==============================] - 49s 55ms/step - loss: 0.5768 - accuracy: 0.8038 - val_loss: 0.7847 - val_accuracy: 0.7458\n",
      "Epoch 41/50\n",
      "892/892 [==============================] - 44s 50ms/step - loss: 0.5968 - accuracy: 0.8003 - val_loss: 0.7075 - val_accuracy: 0.7576\n",
      "Epoch 42/50\n",
      "892/892 [==============================] - 49s 54ms/step - loss: 0.5570 - accuracy: 0.8110 - val_loss: 0.6909 - val_accuracy: 0.7680\n",
      "Epoch 43/50\n",
      "892/892 [==============================] - 49s 55ms/step - loss: 0.5449 - accuracy: 0.8166 - val_loss: 0.7450 - val_accuracy: 0.7410\n",
      "Epoch 44/50\n",
      "892/892 [==============================] - 44s 49ms/step - loss: 0.5270 - accuracy: 0.8224 - val_loss: 0.7271 - val_accuracy: 0.7517\n",
      "Epoch 45/50\n",
      "892/892 [==============================] - 44s 49ms/step - loss: 0.5306 - accuracy: 0.8220 - val_loss: 0.7120 - val_accuracy: 0.7576\n",
      "Epoch 46/50\n",
      "892/892 [==============================] - 49s 55ms/step - loss: 0.5344 - accuracy: 0.8164 - val_loss: 0.7516 - val_accuracy: 0.7489\n",
      "Epoch 47/50\n",
      "892/892 [==============================] - 44s 49ms/step - loss: 0.5499 - accuracy: 0.8146 - val_loss: 0.7530 - val_accuracy: 0.7494\n",
      "Epoch 48/50\n",
      "892/892 [==============================] - 49s 55ms/step - loss: 0.5442 - accuracy: 0.8172 - val_loss: 0.7035 - val_accuracy: 0.7644\n",
      "Epoch 49/50\n",
      "892/892 [==============================] - 44s 49ms/step - loss: 0.5034 - accuracy: 0.8296 - val_loss: 0.7179 - val_accuracy: 0.7542\n",
      "Epoch 50/50\n",
      "892/892 [==============================] - 49s 55ms/step - loss: 0.4925 - accuracy: 0.8290 - val_loss: 0.6853 - val_accuracy: 0.7672\n"
     ]
    }
   ],
   "source": [
    "history = model.fit(x = train_generator,\n",
    "          steps_per_epoch = STEP_SIZE_TRAIN,\n",
    "          validation_data = valid_generator,\n",
    "          validation_steps = STEP_SIZE_VALID,\n",
    "          epochs = 50)"
   ]
  },
  {
   "cell_type": "code",
   "execution_count": 15,
   "id": "cc098ce9",
   "metadata": {
    "execution": {
     "iopub.execute_input": "2022-02-26T12:53:54.410294Z",
     "iopub.status.busy": "2022-02-26T12:53:54.409239Z",
     "iopub.status.idle": "2022-02-26T12:53:54.702804Z",
     "shell.execute_reply": "2022-02-26T12:53:54.703237Z",
     "shell.execute_reply.started": "2022-02-25T21:23:34.49983Z"
    },
    "papermill": {
     "duration": 8.094951,
     "end_time": "2022-02-26T12:53:54.703389",
     "exception": false,
     "start_time": "2022-02-26T12:53:46.608438",
     "status": "completed"
    },
    "tags": []
   },
   "outputs": [
    {
     "data": {
      "image/png": "[encoded data removed]",
      "text/plain": [
       "<Figure size 1008x288 with 2 Axes>"
      ]
     },
     "metadata": {
      "needs_background": "light"
     },
     "output_type": "display_data"
    }
   ],
   "source": [
    "#validation and training loss vs epoch graph\n",
    "history = history.history\n",
    "n_epochs = len(history['loss'])\n",
    "\n",
    "plt.figure(figsize=[14,4])\n",
    "plt.subplot(1,2,1)\n",
    "plt.plot(range(1, n_epochs+1), history['loss'], label='Training')\n",
    "plt.plot(range(1, n_epochs+1), history['val_loss'], label='Validation')\n",
    "plt.xlabel('Epoch'); plt.ylabel('Loss'); plt.title('Loss')\n",
    "plt.legend()\n",
    "plt.subplot(1,2,2)\n",
    "plt.plot(range(1, n_epochs+1), history['accuracy'], label='Training')\n",
    "plt.plot(range(1, n_epochs+1), history['val_accuracy'], label='Validation')\n",
    "plt.xlabel('Epoch'); plt.ylabel('Accuracy'); plt.title('Accuracy')\n",
    "plt.legend()\n",
    "plt.show()"
   ]
  },
  {
   "cell_type": "code",
   "execution_count": 16,
   "id": "446c82f5",
   "metadata": {
    "execution": {
     "iopub.execute_input": "2022-02-26T12:54:09.233990Z",
     "iopub.status.busy": "2022-02-26T12:54:09.233155Z",
     "iopub.status.idle": "2022-02-26T12:54:39.121783Z",
     "shell.execute_reply": "2022-02-26T12:54:39.121337Z",
     "shell.execute_reply.started": "2022-02-25T21:26:43.735572Z"
    },
    "papermill": {
     "duration": 37.293327,
     "end_time": "2022-02-26T12:54:39.121910",
     "exception": false,
     "start_time": "2022-02-26T12:54:01.828583",
     "status": "completed"
    },
    "tags": []
   },
   "outputs": [
    {
     "name": "stderr",
     "output_type": "stream",
     "text": [
      "/opt/conda/lib/python3.7/site-packages/keras/utils/generic_utils.py:497: CustomMaskWarning: Custom mask layers require a config and must override get_config. When loading, the custom mask layer must be passed to the custom_objects argument.\n",
      "  category=CustomMaskWarning)\n",
      "2022-02-26 12:54:20.814117: W tensorflow/python/util/util.cc:348] Sets are not currently considered sequences, but this may change in the future, so consider avoiding using them.\n",
      "/opt/conda/lib/python3.7/site-packages/keras/utils/generic_utils.py:497: CustomMaskWarning: Custom mask layers require a config and must override get_config. When loading, the custom mask layer must be passed to the custom_objects argument.\n",
      "  category=CustomMaskWarning)\n",
      "2022-02-26 12:54:37.501410: I tensorflow/stream_executor/cuda/cuda_gpu_executor.cc:937] successful NUMA node read from SysFS had negative value (-1), but there must be at least one NUMA node, so returning NUMA node zero\n",
      "2022-02-26 12:54:37.501811: I tensorflow/core/grappler/devices.cc:66] Number of eligible GPUs (core count >= 8, compute capability >= 0.0): 1\n",
      "2022-02-26 12:54:37.501936: I tensorflow/core/grappler/clusters/single_machine.cc:357] Starting new session\n",
      "2022-02-26 12:54:37.502470: I tensorflow/stream_executor/cuda/cuda_gpu_executor.cc:937] successful NUMA node read from SysFS had negative value (-1), but there must be at least one NUMA node, so returning NUMA node zero\n",
      "2022-02-26 12:54:37.502917: I tensorflow/stream_executor/cuda/cuda_gpu_executor.cc:937] successful NUMA node read from SysFS had negative value (-1), but there must be at least one NUMA node, so returning NUMA node zero\n",
      "2022-02-26 12:54:37.503308: I tensorflow/stream_executor/cuda/cuda_gpu_executor.cc:937] successful NUMA node read from SysFS had negative value (-1), but there must be at least one NUMA node, so returning NUMA node zero\n",
      "2022-02-26 12:54:37.503758: I tensorflow/stream_executor/cuda/cuda_gpu_executor.cc:937] successful NUMA node read from SysFS had negative value (-1), but there must be at least one NUMA node, so returning NUMA node zero\n",
      "2022-02-26 12:54:37.504144: I tensorflow/stream_executor/cuda/cuda_gpu_executor.cc:937] successful NUMA node read from SysFS had negative value (-1), but there must be at least one NUMA node, so returning NUMA node zero\n",
      "2022-02-26 12:54:37.504432: I tensorflow/core/common_runtime/gpu/gpu_device.cc:1510] Created device /job:localhost/replica:0/task:0/device:GPU:0 with 15403 MB memory:  -> device: 0, name: Tesla P100-PCIE-16GB, pci bus id: 0000:00:04.0, compute capability: 6.0\n",
      "2022-02-26 12:54:37.520022: I tensorflow/core/grappler/optimizers/meta_optimizer.cc:1137] Optimization results for grappler item: graph_to_optimize\n",
      "  function_optimizer: function_optimizer did nothing. time = 0.008ms.\n",
      "  function_optimizer: function_optimizer did nothing. time = 0.002ms.\n",
      "\n",
      "2022-02-26 12:54:38.781856: W tensorflow/compiler/mlir/lite/python/tf_tfl_flatbuffer_helpers.cc:351] Ignored output_format.\n",
      "2022-02-26 12:54:38.781911: W tensorflow/compiler/mlir/lite/python/tf_tfl_flatbuffer_helpers.cc:354] Ignored drop_control_dependency.\n",
      "2022-02-26 12:54:38.850069: I tensorflow/compiler/mlir/tensorflow/utils/dump_mlir_util.cc:210] disabling MLIR crash reproducer, set env var `MLIR_CRASH_REPRODUCER_DIRECTORY` to enable.\n"
     ]
    },
    {
     "data": {
      "text/plain": [
       "18678708"
      ]
     },
     "execution_count": 16,
     "metadata": {},
     "output_type": "execute_result"
    }
   ],
   "source": [
    "# save and quantize model\n",
    "model.save('./emotion.h5')\n",
    "model = tf.keras.models.load_model('./emotion.h5')\n",
    "converter = tf.lite.TFLiteConverter.from_keras_model(model)\n",
    "tflite_model = converter.convert()\n",
    "open(\"emotion.tflite\", \"wb\").write(tflite_model)"
   ]
  },
  {
   "cell_type": "code",
   "execution_count": 17,
   "id": "b4c7801a",
   "metadata": {
    "execution": {
     "iopub.execute_input": "2022-02-26T12:54:53.495754Z",
     "iopub.status.busy": "2022-02-26T12:54:53.494808Z",
     "iopub.status.idle": "2022-02-26T12:54:56.368227Z",
     "shell.execute_reply": "2022-02-26T12:54:56.367725Z",
     "shell.execute_reply.started": "2022-02-25T21:24:05.004083Z"
    },
    "papermill": {
     "duration": 10.093232,
     "end_time": "2022-02-26T12:54:56.368353",
     "exception": false,
     "start_time": "2022-02-26T12:54:46.275121",
     "status": "completed"
    },
    "tags": []
   },
   "outputs": [
    {
     "name": "stdout",
     "output_type": "stream",
     "text": [
      "112/112 [==============================] - 3s 15ms/step - loss: 0.7323 - accuracy: 0.7473\n"
     ]
    },
    {
     "data": {
      "text/plain": [
       "[0.7322887778282166, 0.7473419308662415]"
      ]
     },
     "execution_count": 17,
     "metadata": {},
     "output_type": "execute_result"
    }
   ],
   "source": [
    "model.evaluate(df_final_test_generator)"
   ]
  },
  {
   "cell_type": "code",
   "execution_count": null,
   "id": "261c9dd7",
   "metadata": {
    "papermill": {
     "duration": 7.279558,
     "end_time": "2022-02-26T12:55:10.987476",
     "exception": false,
     "start_time": "2022-02-26T12:55:03.707918",
     "status": "completed"
    },
    "tags": []
   },
   "outputs": [],
   "source": []
  }
 ],
 "metadata": {
  "kernelspec": {
   "display_name": "Python 3",
   "language": "python",
   "name": "python3"
  },
  "language_info": {
   "codemirror_mode": {
    "name": "ipython",
    "version": 3
   },
   "file_extension": ".py",
   "mimetype": "text/x-python",
   "name": "python",
   "nbconvert_exporter": "python",
   "pygments_lexer": "ipython3",
   "version": "3.7.12"
  },
  "papermill": {
   "default_parameters": {},
   "duration": 3275.896454,
   "end_time": "2022-02-26T12:55:20.824422",
   "environment_variables": {},
   "exception": null,
   "input_path": "__notebook__.ipynb",
   "output_path": "__notebook__.ipynb",
   "parameters": {},
   "start_time": "2022-02-26T12:00:44.927968",
   "version": "2.3.3"
  }
 },
 "nbformat": 4,
 "nbformat_minor": 5
}
