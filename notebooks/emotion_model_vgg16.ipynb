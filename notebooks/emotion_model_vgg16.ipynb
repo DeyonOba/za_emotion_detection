{
  "cells": [
    {
      "cell_type": "code",
      "execution_count": 1,
      "metadata": {
        "id": "Oyo9E0kL1co1"
      },
      "outputs": [],
      "source": [
        "import pandas as pd\n",
        "import matplotlib.pyplot as plt\n",
        "import tensorflow as tf\n",
        "import numpy as np\n",
        "from sklearn.model_selection import train_test_split\n",
        "import cv2\n",
        "from keras.applications.vgg16 import VGG16\n",
        "from keras.applications.vgg16 import preprocess_input\n",
        "from tensorflow.keras.layers import MaxPool2D, Conv2D, Dropout, BatchNormalization\n",
        "import os"
      ]
    },
    {
      "cell_type": "code",
      "execution_count": 2,
      "metadata": {
        "id": "an1BaB4434ws"
      },
      "outputs": [],
      "source": [
        "os.environ['KAGGLE_CONFIG_DIR'] = '/content'"
      ]
    },
    {
      "cell_type": "code",
      "execution_count": 3,
      "metadata": {
        "colab": {
          "base_uri": "https://localhost:8080/"
        },
        "id": "1BuqGPXw4FeU",
        "outputId": "77a4ce31-bf11-4fe4-c6d6-dfd030d249bb"
      },
      "outputs": [
        {
          "output_type": "stream",
          "name": "stdout",
          "text": [
            "Warning: Your Kaggle API key is readable by other users on this system! To fix this, you can run 'chmod 600 /content/kaggle.json'\n",
            "Warning: Looks like you're using an outdated API Version, please consider updating (server 1.5.12 / client 1.5.4)\n",
            "Downloading test.csv.zip to /content\n",
            " 52% 10.0M/19.3M [00:00<00:00, 26.0MB/s]\n",
            "100% 19.3M/19.3M [00:00<00:00, 45.2MB/s]\n",
            "Downloading fer2013.tar.gz to /content\n",
            " 92% 85.0M/92.0M [00:01<00:00, 49.5MB/s]\n",
            "100% 92.0M/92.0M [00:01<00:00, 53.8MB/s]\n",
            "Downloading train.csv.zip to /content\n",
            " 96% 74.0M/77.3M [00:02<00:00, 26.6MB/s]\n",
            "100% 77.3M/77.3M [00:02<00:00, 38.8MB/s]\n",
            "Downloading example_submission.csv to /content\n",
            "  0% 0.00/7.01k [00:00<?, ?B/s]\n",
            "100% 7.01k/7.01k [00:00<00:00, 7.97MB/s]\n",
            "Downloading icml_face_data.csv.zip to /content\n",
            " 87% 84.0M/96.6M [00:02<00:00, 35.1MB/s]\n",
            "100% 96.6M/96.6M [00:02<00:00, 44.4MB/s]\n"
          ]
        }
      ],
      "source": [
        "#import kaggle\n",
        "!kaggle competitions download -c challenges-in-representation-learning-facial-expression-recognition-challenge"
      ]
    },
    {
      "cell_type": "code",
      "execution_count": 4,
      "metadata": {
        "colab": {
          "base_uri": "https://localhost:8080/"
        },
        "id": "oLNhRRAg4Tat",
        "outputId": "cef0fb03-ed51-4d4e-b42b-dbebcfb1778d"
      },
      "outputs": [
        {
          "output_type": "stream",
          "name": "stdout",
          "text": [
            "Warning: Your Kaggle API key is readable by other users on this system! To fix this, you can run 'chmod 600 /content/kaggle.json'\n",
            "Warning: Looks like you're using an outdated API Version, please consider updating (server 1.5.12 / client 1.5.4)\n",
            "Downloading fer2013.tar.gz to DATA_DIR\n",
            " 92% 85.0M/92.0M [00:01<00:00, 62.2MB/s]\n",
            "100% 92.0M/92.0M [00:01<00:00, 76.1MB/s]\n",
            "Downloading example_submission.csv to DATA_DIR\n",
            "  0% 0.00/7.01k [00:00<?, ?B/s]\n",
            "100% 7.01k/7.01k [00:00<00:00, 7.27MB/s]\n",
            "Downloading train.csv.zip to DATA_DIR\n",
            " 94% 73.0M/77.3M [00:01<00:00, 40.8MB/s]\n",
            "100% 77.3M/77.3M [00:01<00:00, 47.0MB/s]\n",
            "Downloading test.csv.zip to DATA_DIR\n",
            " 78% 15.0M/19.3M [00:00<00:00, 27.8MB/s]\n",
            "100% 19.3M/19.3M [00:00<00:00, 48.7MB/s]\n",
            "Downloading icml_face_data.csv.zip to DATA_DIR\n",
            " 93% 90.0M/96.6M [00:02<00:00, 44.5MB/s]\n",
            "100% 96.6M/96.6M [00:02<00:00, 47.8MB/s]\n"
          ]
        }
      ],
      "source": [
        "DATA_DIR = \"/content/FERplus2016/FER2013\"\n",
        "!kaggle competitions download -c challenges-in-representation-learning-facial-expression-recognition-challenge -p DATA_DIR"
      ]
    },
    {
      "cell_type": "code",
      "execution_count": 5,
      "metadata": {
        "colab": {
          "base_uri": "https://localhost:8080/"
        },
        "id": "YHIsibgA1co7",
        "outputId": "ef00e45b-fa3e-4696-ae81-8d02453258ba"
      },
      "outputs": [
        {
          "output_type": "stream",
          "name": "stdout",
          "text": [
            "Cloning into 'FERPlus'...\n",
            "remote: Enumerating objects: 128, done.\u001b[K\n",
            "remote: Total 128 (delta 0), reused 0 (delta 0), pack-reused 128\u001b[K\n",
            "Receiving objects: 100% (128/128), 650.37 KiB | 13.84 MiB/s, done.\n",
            "Resolving deltas: 100% (70/70), done.\n",
            "fer2013/fer2013.csv\n",
            "fer2013/README\n",
            "fer2013/fer2013.bib\n",
            "fer2013/\n",
            "Start generating ferplus images.\n",
            "Done...\n"
          ]
        }
      ],
      "source": [
        "def create_dataset():\n",
        "    # clone repo\n",
        "    !git clone https://github.com/microsoft/FERPlus.git\n",
        "    !mkdir ./FER2013plus\n",
        "    # Extract the downloaded data into another directory\n",
        "    !tar xvzf \"/content/DATA_DIR/fer2013.tar.gz\" -C \"/content/FER2013plus/\"\n",
        "    # Run the data generation script on the extracted data\n",
        "    !python /content/FERPlus/src/generate_training_data.py -d /content/FERPlus/data -fer \"/content/FER2013plus/fer2013/fer2013.csv\" -ferplus \"/content/FERPlus/fer2013new.csv\"\n",
        "create_dataset()"
      ]
    },
    {
      "cell_type": "code",
      "execution_count": 6,
      "metadata": {
        "colab": {
          "base_uri": "https://localhost:8080/"
        },
        "id": "GvUJAdeF1co9",
        "outputId": "a271f19d-f82a-43ba-b56f-44ca61c995b2"
      },
      "outputs": [
        {
          "output_type": "stream",
          "name": "stdout",
          "text": [
            "(35887, 12)\n"
          ]
        }
      ],
      "source": [
        "col_names = [\"usage\",\"img_name\", \"neutral\",\"happiness\",\"surprise\",\"sadness\",\"anger\",\"disgust\",\"fear\",\"contempt\",\"Unknown\", \"NF\"]\n",
        "di = {'neutral': 0, 'happiness': 1,'surprise': 2,'sadness': 3,'anger': 4,'disgust': 5,'fear': 6,'contempt': 7,'Unknown': 8,'NF': 9}\n",
        "df = pd.read_csv('/content/FERPlus/fer2013new.csv',names=col_names,header=None,skiprows = 1)\n",
        "print(df.shape)"
      ]
    },
    {
      "cell_type": "code",
      "execution_count": 7,
      "metadata": {
        "colab": {
          "base_uri": "https://localhost:8080/",
          "height": 548
        },
        "id": "10B8qLkU1co-",
        "outputId": "d4d534b4-7a52-4edb-ec67-64e5e1d847c7"
      },
      "outputs": [
        {
          "output_type": "stream",
          "name": "stderr",
          "text": [
            "/usr/local/lib/python3.7/dist-packages/ipykernel_launcher.py:4: SettingWithCopyWarning: \n",
            "A value is trying to be set on a copy of a slice from a DataFrame.\n",
            "Try using .loc[row_indexer,col_indexer] = value instead\n",
            "\n",
            "See the caveats in the documentation: https://pandas.pydata.org/pandas-docs/stable/user_guide/indexing.html#returning-a-view-versus-a-copy\n",
            "  after removing the cwd from sys.path.\n"
          ]
        },
        {
          "output_type": "execute_result",
          "data": {
            "text/html": [
              "\n",
              "  <div id=\"df-10a37094-2c20-4268-ad3c-97a79c84f121\">\n",
              "    <div class=\"colab-df-container\">\n",
              "      <div>\n",
              "<style scoped>\n",
              "    .dataframe tbody tr th:only-of-type {\n",
              "        vertical-align: middle;\n",
              "    }\n",
              "\n",
              "    .dataframe tbody tr th {\n",
              "        vertical-align: top;\n",
              "    }\n",
              "\n",
              "    .dataframe thead th {\n",
              "        text-align: right;\n",
              "    }\n",
              "</style>\n",
              "<table border=\"1\" class=\"dataframe\">\n",
              "  <thead>\n",
              "    <tr style=\"text-align: right;\">\n",
              "      <th></th>\n",
              "      <th>usage</th>\n",
              "      <th>img_name</th>\n",
              "      <th>emotion</th>\n",
              "    </tr>\n",
              "  </thead>\n",
              "  <tbody>\n",
              "    <tr>\n",
              "      <th>0</th>\n",
              "      <td>Training</td>\n",
              "      <td>fer0000000.png</td>\n",
              "      <td>0</td>\n",
              "    </tr>\n",
              "    <tr>\n",
              "      <th>1</th>\n",
              "      <td>Training</td>\n",
              "      <td>fer0000001.png</td>\n",
              "      <td>0</td>\n",
              "    </tr>\n",
              "    <tr>\n",
              "      <th>2</th>\n",
              "      <td>Training</td>\n",
              "      <td>fer0000002.png</td>\n",
              "      <td>0</td>\n",
              "    </tr>\n",
              "    <tr>\n",
              "      <th>3</th>\n",
              "      <td>Training</td>\n",
              "      <td>fer0000003.png</td>\n",
              "      <td>0</td>\n",
              "    </tr>\n",
              "    <tr>\n",
              "      <th>4</th>\n",
              "      <td>Training</td>\n",
              "      <td>fer0000004.png</td>\n",
              "      <td>0</td>\n",
              "    </tr>\n",
              "    <tr>\n",
              "      <th>...</th>\n",
              "      <td>...</td>\n",
              "      <td>...</td>\n",
              "      <td>...</td>\n",
              "    </tr>\n",
              "    <tr>\n",
              "      <th>35709</th>\n",
              "      <td>PrivateTest</td>\n",
              "      <td>fer0035796.png</td>\n",
              "      <td>0</td>\n",
              "    </tr>\n",
              "    <tr>\n",
              "      <th>35710</th>\n",
              "      <td>PrivateTest</td>\n",
              "      <td>fer0035797.png</td>\n",
              "      <td>0</td>\n",
              "    </tr>\n",
              "    <tr>\n",
              "      <th>35711</th>\n",
              "      <td>PrivateTest</td>\n",
              "      <td>fer0035799.png</td>\n",
              "      <td>4</td>\n",
              "    </tr>\n",
              "    <tr>\n",
              "      <th>35712</th>\n",
              "      <td>PrivateTest</td>\n",
              "      <td>fer0035800.png</td>\n",
              "      <td>1</td>\n",
              "    </tr>\n",
              "    <tr>\n",
              "      <th>35713</th>\n",
              "      <td>PrivateTest</td>\n",
              "      <td>fer0035801.png</td>\n",
              "      <td>3</td>\n",
              "    </tr>\n",
              "  </tbody>\n",
              "</table>\n",
              "<p>35714 rows × 3 columns</p>\n",
              "</div>\n",
              "      <button class=\"colab-df-convert\" onclick=\"convertToInteractive('df-10a37094-2c20-4268-ad3c-97a79c84f121')\"\n",
              "              title=\"Convert this dataframe to an interactive table.\"\n",
              "              style=\"display:none;\">\n",
              "        \n",
              "  <svg xmlns=\"http://www.w3.org/2000/svg\" height=\"24px\"viewBox=\"0 0 24 24\"\n",
              "       width=\"24px\">\n",
              "    <path d=\"M0 0h24v24H0V0z\" fill=\"none\"/>\n",
              "    <path d=\"M18.56 5.44l.94 2.06.94-2.06 2.06-.94-2.06-.94-.94-2.06-.94 2.06-2.06.94zm-11 1L8.5 8.5l.94-2.06 2.06-.94-2.06-.94L8.5 2.5l-.94 2.06-2.06.94zm10 10l.94 2.06.94-2.06 2.06-.94-2.06-.94-.94-2.06-.94 2.06-2.06.94z\"/><path d=\"M17.41 7.96l-1.37-1.37c-.4-.4-.92-.59-1.43-.59-.52 0-1.04.2-1.43.59L10.3 9.45l-7.72 7.72c-.78.78-.78 2.05 0 2.83L4 21.41c.39.39.9.59 1.41.59.51 0 1.02-.2 1.41-.59l7.78-7.78 2.81-2.81c.8-.78.8-2.07 0-2.86zM5.41 20L4 18.59l7.72-7.72 1.47 1.35L5.41 20z\"/>\n",
              "  </svg>\n",
              "      </button>\n",
              "      \n",
              "  <style>\n",
              "    .colab-df-container {\n",
              "      display:flex;\n",
              "      flex-wrap:wrap;\n",
              "      gap: 12px;\n",
              "    }\n",
              "\n",
              "    .colab-df-convert {\n",
              "      background-color: #E8F0FE;\n",
              "      border: none;\n",
              "      border-radius: 50%;\n",
              "      cursor: pointer;\n",
              "      display: none;\n",
              "      fill: #1967D2;\n",
              "      height: 32px;\n",
              "      padding: 0 0 0 0;\n",
              "      width: 32px;\n",
              "    }\n",
              "\n",
              "    .colab-df-convert:hover {\n",
              "      background-color: #E2EBFA;\n",
              "      box-shadow: 0px 1px 2px rgba(60, 64, 67, 0.3), 0px 1px 3px 1px rgba(60, 64, 67, 0.15);\n",
              "      fill: #174EA6;\n",
              "    }\n",
              "\n",
              "    [theme=dark] .colab-df-convert {\n",
              "      background-color: #3B4455;\n",
              "      fill: #D2E3FC;\n",
              "    }\n",
              "\n",
              "    [theme=dark] .colab-df-convert:hover {\n",
              "      background-color: #434B5C;\n",
              "      box-shadow: 0px 1px 3px 1px rgba(0, 0, 0, 0.15);\n",
              "      filter: drop-shadow(0px 1px 2px rgba(0, 0, 0, 0.3));\n",
              "      fill: #FFFFFF;\n",
              "    }\n",
              "  </style>\n",
              "\n",
              "      <script>\n",
              "        const buttonEl =\n",
              "          document.querySelector('#df-10a37094-2c20-4268-ad3c-97a79c84f121 button.colab-df-convert');\n",
              "        buttonEl.style.display =\n",
              "          google.colab.kernel.accessAllowed ? 'block' : 'none';\n",
              "\n",
              "        async function convertToInteractive(key) {\n",
              "          const element = document.querySelector('#df-10a37094-2c20-4268-ad3c-97a79c84f121');\n",
              "          const dataTable =\n",
              "            await google.colab.kernel.invokeFunction('convertToInteractive',\n",
              "                                                     [key], {});\n",
              "          if (!dataTable) return;\n",
              "\n",
              "          const docLinkHtml = 'Like what you see? Visit the ' +\n",
              "            '<a target=\"_blank\" href=https://colab.research.google.com/notebooks/data_table.ipynb>data table notebook</a>'\n",
              "            + ' to learn more about interactive tables.';\n",
              "          element.innerHTML = '';\n",
              "          dataTable['output_type'] = 'display_data';\n",
              "          await google.colab.output.renderOutput(dataTable, element);\n",
              "          const docLink = document.createElement('div');\n",
              "          docLink.innerHTML = docLinkHtml;\n",
              "          element.appendChild(docLink);\n",
              "        }\n",
              "      </script>\n",
              "    </div>\n",
              "  </div>\n",
              "  "
            ],
            "text/plain": [
              "             usage        img_name emotion\n",
              "0         Training  fer0000000.png       0\n",
              "1         Training  fer0000001.png       0\n",
              "2         Training  fer0000002.png       0\n",
              "3         Training  fer0000003.png       0\n",
              "4         Training  fer0000004.png       0\n",
              "...            ...             ...     ...\n",
              "35709  PrivateTest  fer0035796.png       0\n",
              "35710  PrivateTest  fer0035797.png       0\n",
              "35711  PrivateTest  fer0035799.png       4\n",
              "35712  PrivateTest  fer0035800.png       1\n",
              "35713  PrivateTest  fer0035801.png       3\n",
              "\n",
              "[35714 rows x 3 columns]"
            ]
          },
          "metadata": {},
          "execution_count": 7
        }
      ],
      "source": [
        "df_copy = df.copy()\n",
        "useful_cols = [x for x in df_copy.columns][2:]\n",
        "dfc = df_copy[useful_cols]\n",
        "dfc['emotion'] = dfc.idxmax(axis=1)\n",
        "df_final = pd.concat([df_copy[['usage','img_name']],  dfc[['emotion']]], axis=1, ignore_index=False)\n",
        "df_final['img_name'] = df_final['img_name'].apply(str)\n",
        "df_final = df_final.replace('nan', np.nan)\n",
        "df_final.dropna(subset = [\"img_name\"], inplace=True)\n",
        "df_final = df_final.reset_index(drop=True)\n",
        "\n",
        "df_final['emotion'] = df_final['emotion'].map(di)\n",
        "df_final['emotion'] = df_final['emotion'].apply(str)\n",
        "\n",
        "df_final"
      ]
    },
    {
      "cell_type": "code",
      "execution_count": 8,
      "metadata": {
        "colab": {
          "base_uri": "https://localhost:8080/"
        },
        "id": "Q9Gt5joOLo5e",
        "outputId": "b07d2c76-657d-489f-ab72-3d160a52f05c"
      },
      "outputs": [
        {
          "output_type": "stream",
          "name": "stderr",
          "text": [
            "/usr/local/lib/python3.7/dist-packages/ipykernel_launcher.py:5: SettingWithCopyWarning: \n",
            "A value is trying to be set on a copy of a slice from a DataFrame.\n",
            "Try using .loc[row_indexer,col_indexer] = value instead\n",
            "\n",
            "See the caveats in the documentation: https://pandas.pydata.org/pandas-docs/stable/user_guide/indexing.html#returning-a-view-versus-a-copy\n",
            "  \"\"\"\n",
            "/usr/local/lib/python3.7/dist-packages/ipykernel_launcher.py:6: SettingWithCopyWarning: \n",
            "A value is trying to be set on a copy of a slice from a DataFrame.\n",
            "Try using .loc[row_indexer,col_indexer] = value instead\n",
            "\n",
            "See the caveats in the documentation: https://pandas.pydata.org/pandas-docs/stable/user_guide/indexing.html#returning-a-view-versus-a-copy\n",
            "  \n"
          ]
        }
      ],
      "source": [
        "def process_df(folder_df):\n",
        "  use_cols = [x for x in folder_df.columns][2:]\n",
        "  folder_df['emotion'] = folder_df[use_cols].idxmax(axis=1)\n",
        "  folder_df = folder_df[['img_name','emotion']]\n",
        "  folder_df['emotion'] = folder_df['emotion'].map(di)\n",
        "  folder_df['emotion'] = folder_df['emotion'].apply(str)\n",
        "  return folder_df\n",
        "\n",
        "new_col_names = [\"img_name\",\"size\", \"neutral\",\"happiness\",\"surprise\",\"sadness\",\"anger\",\"disgust\",\"fear\",\"contempt\",\"Unknown\", \"NF\"]\n",
        "train_df =  pd.read_csv('/content/FERPlus/data/FER2013Train/label.csv',names=new_col_names,header=None)\n",
        "test_df =  pd.read_csv('/content/FERPlus/data/FER2013Test/label.csv',names=new_col_names,header=None)\n",
        "valid_df =  pd.read_csv('/content/FERPlus/data/FER2013Valid/label.csv',names=new_col_names,header=None)\n",
        "\n",
        "train_df = process_df(train_df)\n",
        "test_df = process_df(test_df)\n",
        "valid_df = process_df(valid_df)"
      ]
    },
    {
      "cell_type": "code",
      "execution_count": 9,
      "metadata": {
        "colab": {
          "base_uri": "https://localhost:8080/",
          "height": 285
        },
        "id": "hB4iOv9J1cpB",
        "outputId": "b20830c0-03b2-4c33-d3af-dcc2b2d5a02f"
      },
      "outputs": [
        {
          "output_type": "stream",
          "name": "stdout",
          "text": [
            "(48, 48, 3)\n"
          ]
        },
        {
          "output_type": "display_data",
          "data": {
            "image/png": "[encoded data removed]",
            "text/plain": [
              "<Figure size 432x288 with 1 Axes>"
            ]
          },
          "metadata": {
            "needs_background": "light"
          }
        }
      ],
      "source": [
        "# Preview image\n",
        "img = cv2.imread('/content/FERPlus/data/FER2013Train/fer0000000.png')\n",
        "plt.imshow(img)\n",
        "print(img.shape)"
      ]
    },
    {
      "cell_type": "code",
      "execution_count": 10,
      "metadata": {
        "colab": {
          "base_uri": "https://localhost:8080/"
        },
        "id": "lwuvQ5Vr1cpC",
        "outputId": "4df89a0d-948c-4350-8c5c-915b2b80534e"
      },
      "outputs": [
        {
          "output_type": "stream",
          "name": "stdout",
          "text": [
            "Found 28558 validated image filenames belonging to 10 classes.\n",
            "Found 3579 validated image filenames belonging to 10 classes.\n",
            "Found 3573 validated image filenames belonging to 9 classes.\n"
          ]
        }
      ],
      "source": [
        "from tensorflow.keras.preprocessing.image import ImageDataGenerator\n",
        "\n",
        "datagen = ImageDataGenerator(rescale=1/255,\n",
        "                              rotation_range=5,\n",
        "                              shear_range=0.1,\n",
        "                              zoom_range=0.1,\n",
        "                              width_shift_range=0.1,\n",
        "                              height_shift_range=0.1,\n",
        "                              horizontal_flip=True,\n",
        "                              fill_mode='nearest'\n",
        "                              )\n",
        "\n",
        "\n",
        "train_generator=datagen.flow_from_dataframe(\n",
        "    dataframe=train_df,\n",
        "    directory=\"./FERPlus/data/FER2013Train\",\n",
        "    x_col=\"img_name\",\n",
        "    y_col=\"emotion\",\n",
        "    batch_size=32,\n",
        "    seed=42,\n",
        "    shuffle=True,\n",
        "    class_mode=\"categorical\",\n",
        "    target_size=(48,48))\n",
        "\n",
        "valid_datagen = ImageDataGenerator(rescale=1/255)\n",
        "valid_generator=valid_datagen.flow_from_dataframe(\n",
        "    dataframe=valid_df,\n",
        "    directory=\"./FERPlus/data/FER2013Valid\",\n",
        "    x_col=\"img_name\",\n",
        "    y_col=\"emotion\",\n",
        "    batch_size=32,\n",
        "    seed=42,\n",
        "    shuffle=True,\n",
        "    class_mode=\"categorical\",\n",
        "    target_size=(48,48))\n",
        "\n",
        "test_datagen = ImageDataGenerator(rescale=1/255)\n",
        "test_generator=test_datagen.flow_from_dataframe(\n",
        "    dataframe=test_df,\n",
        "    directory=\"./FERPlus/data/FER2013Test\",\n",
        "    x_col=\"img_name\",\n",
        "    y_col=\"emotion\",\n",
        "    batch_size=32,\n",
        "    seed=42,\n",
        "    shuffle=True,\n",
        "    class_mode=\"categorical\",\n",
        "    target_size=(48,48))\n"
      ]
    },
    {
      "cell_type": "code",
      "execution_count": 11,
      "metadata": {
        "colab": {
          "base_uri": "https://localhost:8080/",
          "height": 279
        },
        "id": "HrzT9kZk1cpE",
        "outputId": "29f3f595-1ccb-4ef5-8184-dc7ec87bf25e"
      },
      "outputs": [
        {
          "output_type": "execute_result",
          "data": {
            "text/plain": [
              "<matplotlib.axes._subplots.AxesSubplot at 0x7f71bef491d0>"
            ]
          },
          "metadata": {},
          "execution_count": 11
        },
        {
          "output_type": "display_data",
          "data": {
            "image/png": "[encoded data removed]",
            "text/plain": [
              "<Figure size 432x288 with 1 Axes>"
            ]
          },
          "metadata": {
            "needs_background": "light"
          }
        }
      ],
      "source": [
        "train_df.emotion.value_counts().sort_index(ascending=False).plot(kind='bar')"
      ]
    },
    {
      "cell_type": "code",
      "execution_count": 12,
      "metadata": {
        "colab": {
          "base_uri": "https://localhost:8080/",
          "height": 279
        },
        "id": "apz8b1zjSPL2",
        "outputId": "e9feecf2-bb75-4c0e-88c2-4613b51a539f"
      },
      "outputs": [
        {
          "output_type": "execute_result",
          "data": {
            "text/plain": [
              "<matplotlib.axes._subplots.AxesSubplot at 0x7f71bee6b090>"
            ]
          },
          "metadata": {},
          "execution_count": 12
        },
        {
          "output_type": "display_data",
          "data": {
            "image/png": "[encoded data removed]",
            "text/plain": [
              "<Figure size 432x288 with 1 Axes>"
            ]
          },
          "metadata": {
            "needs_background": "light"
          }
        }
      ],
      "source": [
        "valid_df.emotion.value_counts().sort_index(ascending=False).plot(kind='bar')"
      ]
    },
    {
      "cell_type": "code",
      "execution_count": 13,
      "metadata": {
        "colab": {
          "base_uri": "https://localhost:8080/",
          "height": 279
        },
        "id": "l4kL1eqRSKOk",
        "outputId": "7cd13d45-4c56-4ade-88cf-1d72a68ec381"
      },
      "outputs": [
        {
          "output_type": "execute_result",
          "data": {
            "text/plain": [
              "<matplotlib.axes._subplots.AxesSubplot at 0x7f71bedfd990>"
            ]
          },
          "metadata": {},
          "execution_count": 13
        },
        {
          "output_type": "display_data",
          "data": {
            "image/png": "[encoded data removed]",
            "text/plain": [
              "<Figure size 432x288 with 1 Axes>"
            ]
          },
          "metadata": {
            "needs_background": "light"
          }
        }
      ],
      "source": [
        "test_df.emotion.value_counts().sort_index(ascending=False).plot(kind='bar')"
      ]
    },
    {
      "cell_type": "markdown",
      "metadata": {
        "id": "VNOiWg691cpG"
      },
      "source": [
        "## Transfer learning"
      ]
    },
    {
      "cell_type": "code",
      "execution_count": 14,
      "metadata": {
        "colab": {
          "base_uri": "https://localhost:8080/"
        },
        "id": "W2UO47Bb1cpK",
        "outputId": "d187bccb-7f1a-4f37-bf7c-da05820784b0"
      },
      "outputs": [
        {
          "output_type": "stream",
          "name": "stdout",
          "text": [
            "Downloading data from https://storage.googleapis.com/tensorflow/keras-applications/vgg16/vgg16_weights_tf_dim_ordering_tf_kernels_notop.h5\n",
            "58892288/58889256 [==============================] - 1s 0us/step\n",
            "58900480/58889256 [==============================] - 1s 0us/step\n"
          ]
        }
      ],
      "source": [
        "vgg = VGG16(input_shape=(48, 48, 3), weights='imagenet', include_top=False)"
      ]
    },
    {
      "cell_type": "code",
      "execution_count": 15,
      "metadata": {
        "colab": {
          "base_uri": "https://localhost:8080/"
        },
        "id": "XCkPibw11cpM",
        "outputId": "20390311-1226-4f25-f662-99eda987e3a3"
      },
      "outputs": [
        {
          "output_type": "stream",
          "name": "stdout",
          "text": [
            "Model: \"vgg16\"\n",
            "_________________________________________________________________\n",
            " Layer (type)                Output Shape              Param #   \n",
            "=================================================================\n",
            " input_1 (InputLayer)        [(None, 48, 48, 3)]       0         \n",
            "                                                                 \n",
            " block1_conv1 (Conv2D)       (None, 48, 48, 64)        1792      \n",
            "                                                                 \n",
            " block1_conv2 (Conv2D)       (None, 48, 48, 64)        36928     \n",
            "                                                                 \n",
            " block1_pool (MaxPooling2D)  (None, 24, 24, 64)        0         \n",
            "                                                                 \n",
            " block2_conv1 (Conv2D)       (None, 24, 24, 128)       73856     \n",
            "                                                                 \n",
            " block2_conv2 (Conv2D)       (None, 24, 24, 128)       147584    \n",
            "                                                                 \n",
            " block2_pool (MaxPooling2D)  (None, 12, 12, 128)       0         \n",
            "                                                                 \n",
            " block3_conv1 (Conv2D)       (None, 12, 12, 256)       295168    \n",
            "                                                                 \n",
            " block3_conv2 (Conv2D)       (None, 12, 12, 256)       590080    \n",
            "                                                                 \n",
            " block3_conv3 (Conv2D)       (None, 12, 12, 256)       590080    \n",
            "                                                                 \n",
            " block3_pool (MaxPooling2D)  (None, 6, 6, 256)         0         \n",
            "                                                                 \n",
            " block4_conv1 (Conv2D)       (None, 6, 6, 512)         1180160   \n",
            "                                                                 \n",
            " block4_conv2 (Conv2D)       (None, 6, 6, 512)         2359808   \n",
            "                                                                 \n",
            " block4_conv3 (Conv2D)       (None, 6, 6, 512)         2359808   \n",
            "                                                                 \n",
            " block4_pool (MaxPooling2D)  (None, 3, 3, 512)         0         \n",
            "                                                                 \n",
            " block5_conv1 (Conv2D)       (None, 3, 3, 512)         2359808   \n",
            "                                                                 \n",
            " block5_conv2 (Conv2D)       (None, 3, 3, 512)         2359808   \n",
            "                                                                 \n",
            " block5_conv3 (Conv2D)       (None, 3, 3, 512)         2359808   \n",
            "                                                                 \n",
            " block5_pool (MaxPooling2D)  (None, 1, 1, 512)         0         \n",
            "                                                                 \n",
            "=================================================================\n",
            "Total params: 14,714,688\n",
            "Trainable params: 14,714,688\n",
            "Non-trainable params: 0\n",
            "_________________________________________________________________\n"
          ]
        }
      ],
      "source": [
        "vgg.summary()"
      ]
    },
    {
      "cell_type": "code",
      "execution_count": 16,
      "metadata": {
        "id": "lIV47pPZ1cpN"
      },
      "outputs": [],
      "source": [
        "for layer in vgg.layers:\n",
        "  layer.trainable = True"
      ]
    },
    {
      "cell_type": "code",
      "execution_count": 17,
      "metadata": {
        "colab": {
          "base_uri": "https://localhost:8080/"
        },
        "id": "7qP4tb9E1cpN",
        "outputId": "c0c04a3b-eef7-442c-aae1-5440fd802595"
      },
      "outputs": [
        {
          "output_type": "stream",
          "name": "stdout",
          "text": [
            "Model: \"sequential\"\n",
            "_________________________________________________________________\n",
            " Layer (type)                Output Shape              Param #   \n",
            "=================================================================\n",
            " vgg16 (Functional)          (None, 1, 1, 512)         14714688  \n",
            "                                                                 \n",
            " conv2d (Conv2D)             (None, 1, 1, 512)         262656    \n",
            "                                                                 \n",
            " conv2d_1 (Conv2D)           (None, 1, 1, 512)         262656    \n",
            "                                                                 \n",
            " dense (Dense)               (None, 1, 1, 512)         262656    \n",
            "                                                                 \n",
            " flatten (Flatten)           (None, 512)               0         \n",
            "                                                                 \n",
            " dense_1 (Dense)             (None, 10)                5130      \n",
            "                                                                 \n",
            "=================================================================\n",
            "Total params: 15,507,786\n",
            "Trainable params: 15,507,786\n",
            "Non-trainable params: 0\n",
            "_________________________________________________________________\n"
          ]
        }
      ],
      "source": [
        "from keras import Sequential\n",
        "from keras.layers import Dense,Flatten\n",
        "np.random.seed(42)\n",
        "tf.random.set_seed(42)\n",
        "\n",
        "model = Sequential([\n",
        "    vgg\n",
        "])\n",
        "model.add(Conv2D(512, kernel_size=(1,1), activation='relu'))    \n",
        "model.add(Conv2D(512, kernel_size=(1,1), activation='relu'))\n",
        "model.add(Dense(512, activation='relu'))\n",
        "  \n",
        "model.add(Flatten())\n",
        "model.add(Dense(10, activation='softmax'))\n",
        "model.summary()\n",
        "\n",
        "learning_rate = 0.0001\n",
        "optimizer = tf.keras.optimizers.Adam(learning_rate = learning_rate)\n",
        "model.compile(optimizer = optimizer, \n",
        "              loss = tf.keras.losses.CategoricalCrossentropy(), \n",
        "              metrics = ['accuracy'])\n",
        "STEP_SIZE_TRAIN = train_generator.n // train_generator.batch_size\n",
        "STEP_SIZE_VALID = valid_generator.n // valid_generator.batch_size"
      ]
    },
    {
      "cell_type": "code",
      "execution_count": 18,
      "metadata": {
        "colab": {
          "base_uri": "https://localhost:8080/"
        },
        "id": "o80tCwPW1cpP",
        "outputId": "0d751c07-698c-4ec8-8291-23af21dcd472"
      },
      "outputs": [
        {
          "output_type": "stream",
          "name": "stdout",
          "text": [
            "Epoch 1/20\n",
            "892/892 [==============================] - 104s 103ms/step - loss: 1.1492 - accuracy: 0.6022 - val_loss: 0.8547 - val_accuracy: 0.7126\n",
            "Epoch 2/20\n",
            "892/892 [==============================] - 81s 90ms/step - loss: 0.8435 - accuracy: 0.7165 - val_loss: 0.7238 - val_accuracy: 0.7523\n",
            "Epoch 3/20\n",
            "892/892 [==============================] - 81s 90ms/step - loss: 0.7265 - accuracy: 0.7540 - val_loss: 0.6853 - val_accuracy: 0.7714\n",
            "Epoch 4/20\n",
            "892/892 [==============================] - 81s 90ms/step - loss: 0.6603 - accuracy: 0.7725 - val_loss: 0.6800 - val_accuracy: 0.7703\n",
            "Epoch 5/20\n",
            "892/892 [==============================] - 80s 90ms/step - loss: 0.6143 - accuracy: 0.7909 - val_loss: 0.6282 - val_accuracy: 0.7860\n",
            "Epoch 6/20\n",
            "892/892 [==============================] - 80s 90ms/step - loss: 0.5744 - accuracy: 0.8032 - val_loss: 0.5943 - val_accuracy: 0.8035\n",
            "Epoch 7/20\n",
            "892/892 [==============================] - 81s 90ms/step - loss: 0.5351 - accuracy: 0.8197 - val_loss: 0.5737 - val_accuracy: 0.8091\n",
            "Epoch 8/20\n",
            "892/892 [==============================] - 80s 90ms/step - loss: 0.5071 - accuracy: 0.8258 - val_loss: 0.5706 - val_accuracy: 0.8049\n",
            "Epoch 9/20\n",
            "892/892 [==============================] - 80s 90ms/step - loss: 0.4750 - accuracy: 0.8377 - val_loss: 0.5542 - val_accuracy: 0.8080\n",
            "Epoch 10/20\n",
            "892/892 [==============================] - 80s 90ms/step - loss: 0.4519 - accuracy: 0.8447 - val_loss: 0.5788 - val_accuracy: 0.8136\n",
            "Epoch 11/20\n",
            "892/892 [==============================] - 80s 90ms/step - loss: 0.4360 - accuracy: 0.8520 - val_loss: 0.5511 - val_accuracy: 0.8224\n",
            "Epoch 12/20\n",
            "892/892 [==============================] - 80s 90ms/step - loss: 0.4054 - accuracy: 0.8615 - val_loss: 0.5913 - val_accuracy: 0.8102\n",
            "Epoch 13/20\n",
            "892/892 [==============================] - 80s 90ms/step - loss: 0.3865 - accuracy: 0.8673 - val_loss: 0.5754 - val_accuracy: 0.8060\n",
            "Epoch 14/20\n",
            "892/892 [==============================] - 80s 90ms/step - loss: 0.3677 - accuracy: 0.8717 - val_loss: 0.5537 - val_accuracy: 0.8164\n",
            "Epoch 15/20\n",
            "892/892 [==============================] - 80s 90ms/step - loss: 0.3447 - accuracy: 0.8790 - val_loss: 0.5900 - val_accuracy: 0.8102\n",
            "Epoch 16/20\n",
            "892/892 [==============================] - 80s 90ms/step - loss: 0.3340 - accuracy: 0.8859 - val_loss: 0.5973 - val_accuracy: 0.8128\n",
            "Epoch 17/20\n",
            "892/892 [==============================] - 80s 90ms/step - loss: 0.3167 - accuracy: 0.8898 - val_loss: 0.6481 - val_accuracy: 0.8164\n",
            "Epoch 18/20\n",
            "892/892 [==============================] - 80s 90ms/step - loss: 0.3025 - accuracy: 0.8954 - val_loss: 0.6426 - val_accuracy: 0.8100\n",
            "Epoch 19/20\n",
            "892/892 [==============================] - 80s 90ms/step - loss: 0.2957 - accuracy: 0.8981 - val_loss: 0.6021 - val_accuracy: 0.8128\n",
            "Epoch 20/20\n",
            "892/892 [==============================] - 80s 90ms/step - loss: 0.2758 - accuracy: 0.9029 - val_loss: 0.6575 - val_accuracy: 0.8201\n"
          ]
        }
      ],
      "source": [
        "history = model.fit(x = train_generator,\n",
        "          steps_per_epoch = STEP_SIZE_TRAIN,\n",
        "          validation_data = valid_generator,\n",
        "          validation_steps = STEP_SIZE_VALID,\n",
        "          epochs = 20)"
      ]
    },
    {
      "cell_type": "code",
      "execution_count": 21,
      "metadata": {
        "colab": {
          "base_uri": "https://localhost:8080/",
          "height": 295
        },
        "id": "SbpMo-Jk1cpQ",
        "outputId": "e526d7ba-aa08-4835-f822-0663c9d677ab"
      },
      "outputs": [
        {
          "output_type": "display_data",
          "data": {
            "image/png": "[encoded data removed]",
            "text/plain": [
              "<Figure size 1008x288 with 2 Axes>"
            ]
          },
          "metadata": {
            "needs_background": "light"
          }
        }
      ],
      "source": [
        "history = history.history\n",
        "n_epochs = len(history['loss'])\n",
        "\n",
        "plt.figure(figsize=[14,4])\n",
        "plt.subplot(1,2,1)\n",
        "plt.plot(range(1, n_epochs+1), history['loss'], label='Training')\n",
        "plt.plot(range(1, n_epochs+1), history['val_loss'], label='Validation')\n",
        "plt.xlabel('Epoch'); plt.ylabel('Loss'); plt.title('Loss')\n",
        "plt.legend()\n",
        "plt.subplot(1,2,2)\n",
        "plt.plot(range(1, n_epochs+1), history['accuracy'], label='Training')\n",
        "plt.plot(range(1, n_epochs+1), history['val_accuracy'], label='Validation')\n",
        "plt.xlabel('Epoch'); plt.ylabel('Accuracy'); plt.title('Accuracy')\n",
        "plt.legend()\n",
        "plt.show()"
      ]
    },
    {
      "cell_type": "code",
      "execution_count": null,
      "metadata": {
        "colab": {
          "background_save": true
        },
        "id": "3K1ykosW1cpQ"
      },
      "outputs": [],
      "source": [
        "# The test_dataset has only 9 classes instead of 10 this will thrown an error.\n",
        "# model.evaluate(test_generator)"
      ]
    },
    {
      "cell_type": "code",
      "execution_count": 22,
      "metadata": {
        "colab": {
          "base_uri": "https://localhost:8080/"
        },
        "id": "uuJ6i4jL1cpR",
        "outputId": "2e1e011e-20b5-47f7-cfa3-79bbd29ec5b3"
      },
      "outputs": [
        {
          "output_type": "stream",
          "name": "stdout",
          "text": [
            "INFO:tensorflow:Assets written to: /tmp/tmp2ei8mv23/assets\n"
          ]
        },
        {
          "output_type": "stream",
          "name": "stderr",
          "text": [
            "WARNING:absl:Buffer deduplication procedure will be skipped when flatbuffer library is not properly loaded\n"
          ]
        },
        {
          "output_type": "execute_result",
          "data": {
            "text/plain": [
              "62043020"
            ]
          },
          "metadata": {},
          "execution_count": 22
        }
      ],
      "source": [
        "# save and quantize model\n",
        "model.save('./emotion_model_vgg16.h5')\n",
        "model = tf.keras.models.load_model('./emotion_model_vgg16.h5')\n",
        "converter = tf.lite.TFLiteConverter.from_keras_model(model)\n",
        "tflite_model = converter.convert()\n",
        "open(\"emotion_model_vgg16.tflite\", \"wb\").write(tflite_model)"
      ]
    },
    {
      "cell_type": "markdown",
      "metadata": {
        "id": "O84-USY542kx"
      },
      "source": [
        "## Testing"
      ]
    },
    {
      "cell_type": "code",
      "execution_count": 23,
      "metadata": {
        "colab": {
          "base_uri": "https://localhost:8080/"
        },
        "id": "qcyfQij-44Ov",
        "outputId": "0194cc6e-bc7b-43c8-c160-c3741c0d3c55"
      },
      "outputs": [
        {
          "output_type": "stream",
          "name": "stdout",
          "text": [
            "Found 3574 validated image filenames belonging to 10 classes.\n"
          ]
        },
        {
          "output_type": "stream",
          "name": "stderr",
          "text": [
            "/usr/local/lib/python3.7/dist-packages/keras_preprocessing/image/dataframe_iterator.py:282: UserWarning: Found 32140 invalid image filename(s) in x_col=\"img_name\". These filename(s) will be ignored.\n",
            "  .format(n_invalid, x_col)\n"
          ]
        },
        {
          "output_type": "stream",
          "name": "stdout",
          "text": [
            "Found 3574 validated image filenames belonging to 10 classes.\n"
          ]
        },
        {
          "output_type": "stream",
          "name": "stderr",
          "text": [
            "/usr/local/lib/python3.7/dist-packages/keras_preprocessing/image/dataframe_iterator.py:282: UserWarning: Found 32140 invalid image filename(s) in x_col=\"img_name\". These filename(s) will be ignored.\n",
            "  .format(n_invalid, x_col)\n"
          ]
        }
      ],
      "source": [
        "df_final_test_generator=test_datagen.flow_from_dataframe(\n",
        "    dataframe=df_final,\n",
        "    directory=\"./FERPlus/data/FER2013Test\",\n",
        "    x_col=\"img_name\",\n",
        "    y_col=\"emotion\",\n",
        "    batch_size=32,\n",
        "    seed=42,\n",
        "    shuffle=True,\n",
        "    class_mode=\"categorical\",\n",
        "    target_size=(48,48))"
      ]
    },
    {
      "cell_type": "code",
      "execution_count": 24,
      "metadata": {
        "colab": {
          "base_uri": "https://localhost:8080/"
        },
        "id": "Zv2VjwNY5B2X",
        "outputId": "d1ceac9c-430a-4f1c-89b5-2245d9b19d8c"
      },
      "outputs": [
        {
          "output_type": "stream",
          "name": "stdout",
          "text": [
            "112/112 [==============================] - 4s 35ms/step - loss: 0.7286 - accuracy: 0.8053\n"
          ]
        },
        {
          "output_type": "execute_result",
          "data": {
            "text/plain": [
              "[0.7286275625228882, 0.8052602410316467]"
            ]
          },
          "metadata": {},
          "execution_count": 20
        },
        {
          "output_type": "stream",
          "name": "stdout",
          "text": [
            "112/112 [==============================] - 5s 39ms/step - loss: 0.7286 - accuracy: 0.8053\n"
          ]
        },
        {
          "output_type": "execute_result",
          "data": {
            "text/plain": [
              "[0.7286275625228882, 0.8052602410316467]"
            ]
          },
          "metadata": {},
          "execution_count": 24
        }
      ],
      "source": [
        "model.evaluate(df_final_test_generator)"
      ]
    }
  ],
  "metadata": {
    "accelerator": "GPU",
    "colab": {
      "collapsed_sections": [],
      "name": "emotion_model_vgg16.ipynb",
      "provenance": []
    },
    "kernelspec": {
      "display_name": "Python 3",
      "language": "python",
      "name": "python3"
    },
    "language_info": {
      "codemirror_mode": {
        "name": "ipython",
        "version": 3
      },
      "file_extension": ".py",
      "mimetype": "text/x-python",
      "name": "python",
      "nbconvert_exporter": "python",
      "pygments_lexer": "ipython3",
      "version": "3.6.4"
    }
  },
  "nbformat": 4,
  "nbformat_minor": 0
}